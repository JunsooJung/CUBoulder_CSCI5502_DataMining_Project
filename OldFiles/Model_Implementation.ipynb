{
  "cells": [
    {
      "cell_type": "markdown",
      "metadata": {
        "id": "M5mG6jVcrwZM"
      },
      "source": [
        "# Data Preprocessing"
      ]
    },
    {
      "cell_type": "code",
      "execution_count": 24,
      "metadata": {
        "id": "_-kXvOMlVMTO"
      },
      "outputs": [],
      "source": [
        "import pandas as pd\n",
        "import numpy as np\n",
        "import matplotlib.pyplot as plt\n",
        "import seaborn as sns"
      ]
    },
    {
      "cell_type": "code",
      "execution_count": 25,
      "metadata": {
        "colab": {
          "base_uri": "https://localhost:8080/",
          "height": 363
        },
        "id": "tEOTf-BOr-j2",
        "outputId": "d003ad8c-f0a5-42a9-8a7d-68423c589075"
      },
      "outputs": [
        {
          "data": {
            "text/html": [
              "<div>\n",
              "<style scoped>\n",
              "    .dataframe tbody tr th:only-of-type {\n",
              "        vertical-align: middle;\n",
              "    }\n",
              "\n",
              "    .dataframe tbody tr th {\n",
              "        vertical-align: top;\n",
              "    }\n",
              "\n",
              "    .dataframe thead th {\n",
              "        text-align: right;\n",
              "    }\n",
              "</style>\n",
              "<table border=\"1\" class=\"dataframe\">\n",
              "  <thead>\n",
              "    <tr style=\"text-align: right;\">\n",
              "      <th></th>\n",
              "      <th>Name</th>\n",
              "      <th>Genre</th>\n",
              "      <th>Category</th>\n",
              "      <th>Release_Date</th>\n",
              "      <th>Price (in $)</th>\n",
              "      <th>Followers</th>\n",
              "      <th>Developers</th>\n",
              "      <th>Publishers</th>\n",
              "      <th>Ownership_Midpoint</th>\n",
              "    </tr>\n",
              "  </thead>\n",
              "  <tbody>\n",
              "    <tr>\n",
              "      <th>0</th>\n",
              "      <td>Tetris effect: connected</td>\n",
              "      <td>Casual, Indie</td>\n",
              "      <td>Single-player, Multi-player, PvP, Online PvP,...</td>\n",
              "      <td>2021-08-17</td>\n",
              "      <td>39.99</td>\n",
              "      <td>14,663</td>\n",
              "      <td>Stage Games</td>\n",
              "      <td>Enhance</td>\n",
              "      <td>350000.0</td>\n",
              "    </tr>\n",
              "    <tr>\n",
              "      <th>1</th>\n",
              "      <td>Chicory: a colorful tale</td>\n",
              "      <td>Indie, RPG</td>\n",
              "      <td>Single-player, Multi-player, Co-op, Shared/Sp...</td>\n",
              "      <td>2021-06-10</td>\n",
              "      <td>19.99</td>\n",
              "      <td>10,504</td>\n",
              "      <td>A Shell in the Pit</td>\n",
              "      <td>Finji</td>\n",
              "      <td>150000.0</td>\n",
              "    </tr>\n",
              "    <tr>\n",
              "      <th>2</th>\n",
              "      <td>Opus: echo of starsong - full bloom edition</td>\n",
              "      <td>Adventure, Indie</td>\n",
              "      <td>Single-player, Steam Achievements, Full contr...</td>\n",
              "      <td>2021-08-31</td>\n",
              "      <td>24.99</td>\n",
              "      <td>27,588</td>\n",
              "      <td>SIGONO INC.</td>\n",
              "      <td>SIGONO INC.</td>\n",
              "      <td>350000.0</td>\n",
              "    </tr>\n",
              "    <tr>\n",
              "      <th>3</th>\n",
              "      <td>Psychonauts 2</td>\n",
              "      <td>Action, Adventure</td>\n",
              "      <td>Single-player, Steam Achievements, Full contr...</td>\n",
              "      <td>2021-08-24</td>\n",
              "      <td>59.99</td>\n",
              "      <td>37,393</td>\n",
              "      <td>Double Fine Productions</td>\n",
              "      <td>Xbox Game Studios</td>\n",
              "      <td>350000.0</td>\n",
              "    </tr>\n",
              "    <tr>\n",
              "      <th>4</th>\n",
              "      <td>It takes two</td>\n",
              "      <td>Action, Adventure</td>\n",
              "      <td>Multi-player, Co-op, Online Co-op, Shared/Spl...</td>\n",
              "      <td>2021-03-25</td>\n",
              "      <td>39.99</td>\n",
              "      <td>442,068</td>\n",
              "      <td>Hazelight</td>\n",
              "      <td>Electronic Arts</td>\n",
              "      <td>7500000.0</td>\n",
              "    </tr>\n",
              "    <tr>\n",
              "      <th>5</th>\n",
              "      <td>Ragnarock</td>\n",
              "      <td>Casual, Indie</td>\n",
              "      <td>Single-player, Multi-player, PvP, Online PvP,...</td>\n",
              "      <td>2021-07-15</td>\n",
              "      <td>24.99</td>\n",
              "      <td>8,354</td>\n",
              "      <td>WanadevStudio</td>\n",
              "      <td>WanadevStudio</td>\n",
              "      <td>150000.0</td>\n",
              "    </tr>\n",
              "    <tr>\n",
              "      <th>6</th>\n",
              "      <td>Mini motorways</td>\n",
              "      <td>Simulation, Strategy</td>\n",
              "      <td>Single-player, Steam Achievements, Full contr...</td>\n",
              "      <td>2021-07-20</td>\n",
              "      <td>8.49</td>\n",
              "      <td>34,926</td>\n",
              "      <td>Dinosaur Polo Club</td>\n",
              "      <td>Dinosaur Polo Club</td>\n",
              "      <td>750000.0</td>\n",
              "    </tr>\n",
              "    <tr>\n",
              "      <th>7</th>\n",
              "      <td>Deathloop</td>\n",
              "      <td>Fr, Action</td>\n",
              "      <td>Single-player, Multi-player, PvP, Online PvP,...</td>\n",
              "      <td>2021-09-13</td>\n",
              "      <td>59.99</td>\n",
              "      <td>87,743</td>\n",
              "      <td>Arkane Studios</td>\n",
              "      <td>Bethesda Softworks</td>\n",
              "      <td>1500000.0</td>\n",
              "    </tr>\n",
              "    <tr>\n",
              "      <th>8</th>\n",
              "      <td>Blind drive</td>\n",
              "      <td>Action, Indie</td>\n",
              "      <td>Single-player, Steam Achievements, Full contr...</td>\n",
              "      <td>2021-03-10</td>\n",
              "      <td>9.99</td>\n",
              "      <td>1,102</td>\n",
              "      <td>Lo-Fi People</td>\n",
              "      <td>Lo-Fi People</td>\n",
              "      <td>10000.0</td>\n",
              "    </tr>\n",
              "    <tr>\n",
              "      <th>9</th>\n",
              "      <td>The last friend</td>\n",
              "      <td>Indie, Strategy</td>\n",
              "      <td>Single-player, Multi-player, Co-op, Shared/Sp...</td>\n",
              "      <td>2021-09-30</td>\n",
              "      <td>14.99</td>\n",
              "      <td>1,142</td>\n",
              "      <td>Ludus Games</td>\n",
              "      <td>Skystone Games</td>\n",
              "      <td>10000.0</td>\n",
              "    </tr>\n",
              "  </tbody>\n",
              "</table>\n",
              "</div>"
            ],
            "text/plain": [
              "                                          Name                 Genre  \\\n",
              "0                     Tetris effect: connected         Casual, Indie   \n",
              "1                     Chicory: a colorful tale            Indie, RPG   \n",
              "2  Opus: echo of starsong - full bloom edition      Adventure, Indie   \n",
              "3                                Psychonauts 2     Action, Adventure   \n",
              "4                                 It takes two     Action, Adventure   \n",
              "5                                    Ragnarock         Casual, Indie   \n",
              "6                               Mini motorways  Simulation, Strategy   \n",
              "7                                    Deathloop            Fr, Action   \n",
              "8                                  Blind drive         Action, Indie   \n",
              "9                              The last friend       Indie, Strategy   \n",
              "\n",
              "                                            Category Release_Date  \\\n",
              "0   Single-player, Multi-player, PvP, Online PvP,...   2021-08-17   \n",
              "1   Single-player, Multi-player, Co-op, Shared/Sp...   2021-06-10   \n",
              "2   Single-player, Steam Achievements, Full contr...   2021-08-31   \n",
              "3   Single-player, Steam Achievements, Full contr...   2021-08-24   \n",
              "4   Multi-player, Co-op, Online Co-op, Shared/Spl...   2021-03-25   \n",
              "5   Single-player, Multi-player, PvP, Online PvP,...   2021-07-15   \n",
              "6   Single-player, Steam Achievements, Full contr...   2021-07-20   \n",
              "7   Single-player, Multi-player, PvP, Online PvP,...   2021-09-13   \n",
              "8   Single-player, Steam Achievements, Full contr...   2021-03-10   \n",
              "9   Single-player, Multi-player, Co-op, Shared/Sp...   2021-09-30   \n",
              "\n",
              "   Price (in $) Followers               Developers          Publishers  \\\n",
              "0         39.99    14,663              Stage Games             Enhance   \n",
              "1         19.99    10,504       A Shell in the Pit               Finji   \n",
              "2         24.99    27,588              SIGONO INC.         SIGONO INC.   \n",
              "3         59.99    37,393  Double Fine Productions   Xbox Game Studios   \n",
              "4         39.99   442,068                Hazelight     Electronic Arts   \n",
              "5         24.99     8,354            WanadevStudio       WanadevStudio   \n",
              "6          8.49    34,926       Dinosaur Polo Club  Dinosaur Polo Club   \n",
              "7         59.99    87,743           Arkane Studios  Bethesda Softworks   \n",
              "8          9.99     1,102             Lo-Fi People        Lo-Fi People   \n",
              "9         14.99     1,142              Ludus Games      Skystone Games   \n",
              "\n",
              "   Ownership_Midpoint  \n",
              "0            350000.0  \n",
              "1            150000.0  \n",
              "2            350000.0  \n",
              "3            350000.0  \n",
              "4           7500000.0  \n",
              "5            150000.0  \n",
              "6            750000.0  \n",
              "7           1500000.0  \n",
              "8             10000.0  \n",
              "9             10000.0  "
            ]
          },
          "execution_count": 25,
          "metadata": {},
          "output_type": "execute_result"
        }
      ],
      "source": [
        "games_data = pd.read_csv(\"Games_Dataset_Owner.csv\")\n",
        "games_data.head(10)"
      ]
    },
    {
      "cell_type": "code",
      "execution_count": 26,
      "metadata": {
        "colab": {
          "base_uri": "https://localhost:8080/"
        },
        "id": "Vxw2_HzwsNSQ",
        "outputId": "932e7d08-b0d2-45f6-da0b-0ba784be6640"
      },
      "outputs": [
        {
          "name": "stdout",
          "output_type": "stream",
          "text": [
            "<class 'pandas.core.frame.DataFrame'>\n",
            "RangeIndex: 9031 entries, 0 to 9030\n",
            "Data columns (total 9 columns):\n",
            " #   Column              Non-Null Count  Dtype  \n",
            "---  ------              --------------  -----  \n",
            " 0   Name                9031 non-null   object \n",
            " 1   Genre               9031 non-null   object \n",
            " 2   Category            9031 non-null   object \n",
            " 3   Release_Date        8612 non-null   object \n",
            " 4   Price (in $)        9031 non-null   float64\n",
            " 5   Followers           9031 non-null   object \n",
            " 6   Developers          9028 non-null   object \n",
            " 7   Publishers          9015 non-null   object \n",
            " 8   Ownership_Midpoint  9031 non-null   float64\n",
            "dtypes: float64(2), object(7)\n",
            "memory usage: 635.1+ KB\n"
          ]
        }
      ],
      "source": [
        "games_data.info()"
      ]
    },
    {
      "cell_type": "code",
      "execution_count": 27,
      "metadata": {
        "colab": {
          "base_uri": "https://localhost:8080/"
        },
        "id": "1pCecA6usRy7",
        "outputId": "11a6a61f-7edb-4f80-8757-b70c9aa7e839"
      },
      "outputs": [
        {
          "data": {
            "text/plain": [
              "Name                    0\n",
              "Genre                   0\n",
              "Category                0\n",
              "Release_Date          419\n",
              "Price (in $)            0\n",
              "Followers               0\n",
              "Developers              3\n",
              "Publishers             16\n",
              "Ownership_Midpoint      0\n",
              "dtype: int64"
            ]
          },
          "execution_count": 27,
          "metadata": {},
          "output_type": "execute_result"
        }
      ],
      "source": [
        "games_data.isna().sum()"
      ]
    },
    {
      "cell_type": "code",
      "execution_count": 28,
      "metadata": {
        "id": "yNWXuxjvsU5S"
      },
      "outputs": [],
      "source": [
        "games_data = games_data.dropna()"
      ]
    },
    {
      "cell_type": "code",
      "execution_count": 29,
      "metadata": {
        "colab": {
          "base_uri": "https://localhost:8080/"
        },
        "id": "fLcgrt_FscRp",
        "outputId": "36d8506b-ae24-4fd8-91ac-6250d2c4e88f"
      },
      "outputs": [
        {
          "data": {
            "text/plain": [
              "Name                  0\n",
              "Genre                 0\n",
              "Category              0\n",
              "Release_Date          0\n",
              "Price (in $)          0\n",
              "Followers             0\n",
              "Developers            0\n",
              "Publishers            0\n",
              "Ownership_Midpoint    0\n",
              "dtype: int64"
            ]
          },
          "execution_count": 29,
          "metadata": {},
          "output_type": "execute_result"
        }
      ],
      "source": [
        "games_data.isna().sum()"
      ]
    },
    {
      "cell_type": "code",
      "execution_count": 30,
      "metadata": {
        "colab": {
          "base_uri": "https://localhost:8080/",
          "height": 36
        },
        "id": "lStl8eettwb3",
        "outputId": "e4c9df47-d469-4b27-c514-7d347c258218"
      },
      "outputs": [
        {
          "data": {
            "text/plain": [
              "'Adventure, Indie'"
            ]
          },
          "execution_count": 30,
          "metadata": {},
          "output_type": "execute_result"
        }
      ],
      "source": [
        "games_data[\"Genre\"][24]"
      ]
    },
    {
      "cell_type": "code",
      "execution_count": 31,
      "metadata": {
        "colab": {
          "base_uri": "https://localhost:8080/"
        },
        "id": "Be5h4RZCySGK",
        "outputId": "dea01d30-c262-42f7-9b4c-13ec10bfb340"
      },
      "outputs": [
        {
          "name": "stdout",
          "output_type": "stream",
          "text": [
            "Adventure\n"
          ]
        }
      ],
      "source": [
        "first_genre = games_data[\"Genre\"][24].split(\",\")[0].strip()\n",
        "print(first_genre)"
      ]
    },
    {
      "cell_type": "code",
      "execution_count": 32,
      "metadata": {
        "colab": {
          "base_uri": "https://localhost:8080/",
          "height": 363
        },
        "id": "dtPeJH65yxmz",
        "outputId": "d2c48f7f-b8a2-4fa9-dcfd-5fe94be252db"
      },
      "outputs": [
        {
          "data": {
            "text/html": [
              "<div>\n",
              "<style scoped>\n",
              "    .dataframe tbody tr th:only-of-type {\n",
              "        vertical-align: middle;\n",
              "    }\n",
              "\n",
              "    .dataframe tbody tr th {\n",
              "        vertical-align: top;\n",
              "    }\n",
              "\n",
              "    .dataframe thead th {\n",
              "        text-align: right;\n",
              "    }\n",
              "</style>\n",
              "<table border=\"1\" class=\"dataframe\">\n",
              "  <thead>\n",
              "    <tr style=\"text-align: right;\">\n",
              "      <th></th>\n",
              "      <th>Name</th>\n",
              "      <th>Genre</th>\n",
              "      <th>Category</th>\n",
              "      <th>Release_Date</th>\n",
              "      <th>Price (in $)</th>\n",
              "      <th>Followers</th>\n",
              "      <th>Developers</th>\n",
              "      <th>Publishers</th>\n",
              "      <th>Ownership_Midpoint</th>\n",
              "    </tr>\n",
              "  </thead>\n",
              "  <tbody>\n",
              "    <tr>\n",
              "      <th>0</th>\n",
              "      <td>Tetris effect: connected</td>\n",
              "      <td>Casual</td>\n",
              "      <td>Single-player, Multi-player, PvP, Online PvP,...</td>\n",
              "      <td>2021-08-17</td>\n",
              "      <td>39.99</td>\n",
              "      <td>14,663</td>\n",
              "      <td>Stage Games</td>\n",
              "      <td>Enhance</td>\n",
              "      <td>350000.0</td>\n",
              "    </tr>\n",
              "    <tr>\n",
              "      <th>1</th>\n",
              "      <td>Chicory: a colorful tale</td>\n",
              "      <td>Indie</td>\n",
              "      <td>Single-player, Multi-player, Co-op, Shared/Sp...</td>\n",
              "      <td>2021-06-10</td>\n",
              "      <td>19.99</td>\n",
              "      <td>10,504</td>\n",
              "      <td>A Shell in the Pit</td>\n",
              "      <td>Finji</td>\n",
              "      <td>150000.0</td>\n",
              "    </tr>\n",
              "    <tr>\n",
              "      <th>2</th>\n",
              "      <td>Opus: echo of starsong - full bloom edition</td>\n",
              "      <td>Adventure</td>\n",
              "      <td>Single-player, Steam Achievements, Full contr...</td>\n",
              "      <td>2021-08-31</td>\n",
              "      <td>24.99</td>\n",
              "      <td>27,588</td>\n",
              "      <td>SIGONO INC.</td>\n",
              "      <td>SIGONO INC.</td>\n",
              "      <td>350000.0</td>\n",
              "    </tr>\n",
              "    <tr>\n",
              "      <th>3</th>\n",
              "      <td>Psychonauts 2</td>\n",
              "      <td>Action</td>\n",
              "      <td>Single-player, Steam Achievements, Full contr...</td>\n",
              "      <td>2021-08-24</td>\n",
              "      <td>59.99</td>\n",
              "      <td>37,393</td>\n",
              "      <td>Double Fine Productions</td>\n",
              "      <td>Xbox Game Studios</td>\n",
              "      <td>350000.0</td>\n",
              "    </tr>\n",
              "    <tr>\n",
              "      <th>4</th>\n",
              "      <td>It takes two</td>\n",
              "      <td>Action</td>\n",
              "      <td>Multi-player, Co-op, Online Co-op, Shared/Spl...</td>\n",
              "      <td>2021-03-25</td>\n",
              "      <td>39.99</td>\n",
              "      <td>442,068</td>\n",
              "      <td>Hazelight</td>\n",
              "      <td>Electronic Arts</td>\n",
              "      <td>7500000.0</td>\n",
              "    </tr>\n",
              "    <tr>\n",
              "      <th>5</th>\n",
              "      <td>Ragnarock</td>\n",
              "      <td>Casual</td>\n",
              "      <td>Single-player, Multi-player, PvP, Online PvP,...</td>\n",
              "      <td>2021-07-15</td>\n",
              "      <td>24.99</td>\n",
              "      <td>8,354</td>\n",
              "      <td>WanadevStudio</td>\n",
              "      <td>WanadevStudio</td>\n",
              "      <td>150000.0</td>\n",
              "    </tr>\n",
              "    <tr>\n",
              "      <th>6</th>\n",
              "      <td>Mini motorways</td>\n",
              "      <td>Simulation</td>\n",
              "      <td>Single-player, Steam Achievements, Full contr...</td>\n",
              "      <td>2021-07-20</td>\n",
              "      <td>8.49</td>\n",
              "      <td>34,926</td>\n",
              "      <td>Dinosaur Polo Club</td>\n",
              "      <td>Dinosaur Polo Club</td>\n",
              "      <td>750000.0</td>\n",
              "    </tr>\n",
              "    <tr>\n",
              "      <th>7</th>\n",
              "      <td>Deathloop</td>\n",
              "      <td>Fr</td>\n",
              "      <td>Single-player, Multi-player, PvP, Online PvP,...</td>\n",
              "      <td>2021-09-13</td>\n",
              "      <td>59.99</td>\n",
              "      <td>87,743</td>\n",
              "      <td>Arkane Studios</td>\n",
              "      <td>Bethesda Softworks</td>\n",
              "      <td>1500000.0</td>\n",
              "    </tr>\n",
              "    <tr>\n",
              "      <th>8</th>\n",
              "      <td>Blind drive</td>\n",
              "      <td>Action</td>\n",
              "      <td>Single-player, Steam Achievements, Full contr...</td>\n",
              "      <td>2021-03-10</td>\n",
              "      <td>9.99</td>\n",
              "      <td>1,102</td>\n",
              "      <td>Lo-Fi People</td>\n",
              "      <td>Lo-Fi People</td>\n",
              "      <td>10000.0</td>\n",
              "    </tr>\n",
              "    <tr>\n",
              "      <th>9</th>\n",
              "      <td>The last friend</td>\n",
              "      <td>Indie</td>\n",
              "      <td>Single-player, Multi-player, Co-op, Shared/Sp...</td>\n",
              "      <td>2021-09-30</td>\n",
              "      <td>14.99</td>\n",
              "      <td>1,142</td>\n",
              "      <td>Ludus Games</td>\n",
              "      <td>Skystone Games</td>\n",
              "      <td>10000.0</td>\n",
              "    </tr>\n",
              "  </tbody>\n",
              "</table>\n",
              "</div>"
            ],
            "text/plain": [
              "                                          Name       Genre  \\\n",
              "0                     Tetris effect: connected      Casual   \n",
              "1                     Chicory: a colorful tale       Indie   \n",
              "2  Opus: echo of starsong - full bloom edition   Adventure   \n",
              "3                                Psychonauts 2      Action   \n",
              "4                                 It takes two      Action   \n",
              "5                                    Ragnarock      Casual   \n",
              "6                               Mini motorways  Simulation   \n",
              "7                                    Deathloop          Fr   \n",
              "8                                  Blind drive      Action   \n",
              "9                              The last friend       Indie   \n",
              "\n",
              "                                            Category Release_Date  \\\n",
              "0   Single-player, Multi-player, PvP, Online PvP,...   2021-08-17   \n",
              "1   Single-player, Multi-player, Co-op, Shared/Sp...   2021-06-10   \n",
              "2   Single-player, Steam Achievements, Full contr...   2021-08-31   \n",
              "3   Single-player, Steam Achievements, Full contr...   2021-08-24   \n",
              "4   Multi-player, Co-op, Online Co-op, Shared/Spl...   2021-03-25   \n",
              "5   Single-player, Multi-player, PvP, Online PvP,...   2021-07-15   \n",
              "6   Single-player, Steam Achievements, Full contr...   2021-07-20   \n",
              "7   Single-player, Multi-player, PvP, Online PvP,...   2021-09-13   \n",
              "8   Single-player, Steam Achievements, Full contr...   2021-03-10   \n",
              "9   Single-player, Multi-player, Co-op, Shared/Sp...   2021-09-30   \n",
              "\n",
              "   Price (in $) Followers               Developers          Publishers  \\\n",
              "0         39.99    14,663              Stage Games             Enhance   \n",
              "1         19.99    10,504       A Shell in the Pit               Finji   \n",
              "2         24.99    27,588              SIGONO INC.         SIGONO INC.   \n",
              "3         59.99    37,393  Double Fine Productions   Xbox Game Studios   \n",
              "4         39.99   442,068                Hazelight     Electronic Arts   \n",
              "5         24.99     8,354            WanadevStudio       WanadevStudio   \n",
              "6          8.49    34,926       Dinosaur Polo Club  Dinosaur Polo Club   \n",
              "7         59.99    87,743           Arkane Studios  Bethesda Softworks   \n",
              "8          9.99     1,102             Lo-Fi People        Lo-Fi People   \n",
              "9         14.99     1,142              Ludus Games      Skystone Games   \n",
              "\n",
              "   Ownership_Midpoint  \n",
              "0            350000.0  \n",
              "1            150000.0  \n",
              "2            350000.0  \n",
              "3            350000.0  \n",
              "4           7500000.0  \n",
              "5            150000.0  \n",
              "6            750000.0  \n",
              "7           1500000.0  \n",
              "8             10000.0  \n",
              "9             10000.0  "
            ]
          },
          "execution_count": 32,
          "metadata": {},
          "output_type": "execute_result"
        }
      ],
      "source": [
        "games_data['Genre'] = games_data['Genre'].apply(lambda x: x.split(\",\")[0].strip())\n",
        "games_data.head(10)"
      ]
    },
    {
      "cell_type": "code",
      "execution_count": 33,
      "metadata": {
        "colab": {
          "base_uri": "https://localhost:8080/",
          "height": 363
        },
        "id": "odY-TGUZy947",
        "outputId": "3a426bca-dd1e-4c8e-9690-ece7b1825a5f"
      },
      "outputs": [
        {
          "data": {
            "text/html": [
              "<div>\n",
              "<style scoped>\n",
              "    .dataframe tbody tr th:only-of-type {\n",
              "        vertical-align: middle;\n",
              "    }\n",
              "\n",
              "    .dataframe tbody tr th {\n",
              "        vertical-align: top;\n",
              "    }\n",
              "\n",
              "    .dataframe thead th {\n",
              "        text-align: right;\n",
              "    }\n",
              "</style>\n",
              "<table border=\"1\" class=\"dataframe\">\n",
              "  <thead>\n",
              "    <tr style=\"text-align: right;\">\n",
              "      <th></th>\n",
              "      <th>Name</th>\n",
              "      <th>Genre</th>\n",
              "      <th>Category</th>\n",
              "      <th>Release_Date</th>\n",
              "      <th>Price (in $)</th>\n",
              "      <th>Followers</th>\n",
              "      <th>Developers</th>\n",
              "      <th>Publishers</th>\n",
              "      <th>Ownership_Midpoint</th>\n",
              "    </tr>\n",
              "  </thead>\n",
              "  <tbody>\n",
              "    <tr>\n",
              "      <th>0</th>\n",
              "      <td>Tetris effect: connected</td>\n",
              "      <td>Casual</td>\n",
              "      <td>Single-player</td>\n",
              "      <td>2021-08-17</td>\n",
              "      <td>39.99</td>\n",
              "      <td>14,663</td>\n",
              "      <td>Stage Games</td>\n",
              "      <td>Enhance</td>\n",
              "      <td>350000.0</td>\n",
              "    </tr>\n",
              "    <tr>\n",
              "      <th>1</th>\n",
              "      <td>Chicory: a colorful tale</td>\n",
              "      <td>Indie</td>\n",
              "      <td>Single-player</td>\n",
              "      <td>2021-06-10</td>\n",
              "      <td>19.99</td>\n",
              "      <td>10,504</td>\n",
              "      <td>A Shell in the Pit</td>\n",
              "      <td>Finji</td>\n",
              "      <td>150000.0</td>\n",
              "    </tr>\n",
              "    <tr>\n",
              "      <th>2</th>\n",
              "      <td>Opus: echo of starsong - full bloom edition</td>\n",
              "      <td>Adventure</td>\n",
              "      <td>Single-player</td>\n",
              "      <td>2021-08-31</td>\n",
              "      <td>24.99</td>\n",
              "      <td>27,588</td>\n",
              "      <td>SIGONO INC.</td>\n",
              "      <td>SIGONO INC.</td>\n",
              "      <td>350000.0</td>\n",
              "    </tr>\n",
              "    <tr>\n",
              "      <th>3</th>\n",
              "      <td>Psychonauts 2</td>\n",
              "      <td>Action</td>\n",
              "      <td>Single-player</td>\n",
              "      <td>2021-08-24</td>\n",
              "      <td>59.99</td>\n",
              "      <td>37,393</td>\n",
              "      <td>Double Fine Productions</td>\n",
              "      <td>Xbox Game Studios</td>\n",
              "      <td>350000.0</td>\n",
              "    </tr>\n",
              "    <tr>\n",
              "      <th>4</th>\n",
              "      <td>It takes two</td>\n",
              "      <td>Action</td>\n",
              "      <td>Multi-player</td>\n",
              "      <td>2021-03-25</td>\n",
              "      <td>39.99</td>\n",
              "      <td>442,068</td>\n",
              "      <td>Hazelight</td>\n",
              "      <td>Electronic Arts</td>\n",
              "      <td>7500000.0</td>\n",
              "    </tr>\n",
              "    <tr>\n",
              "      <th>5</th>\n",
              "      <td>Ragnarock</td>\n",
              "      <td>Casual</td>\n",
              "      <td>Single-player</td>\n",
              "      <td>2021-07-15</td>\n",
              "      <td>24.99</td>\n",
              "      <td>8,354</td>\n",
              "      <td>WanadevStudio</td>\n",
              "      <td>WanadevStudio</td>\n",
              "      <td>150000.0</td>\n",
              "    </tr>\n",
              "    <tr>\n",
              "      <th>6</th>\n",
              "      <td>Mini motorways</td>\n",
              "      <td>Simulation</td>\n",
              "      <td>Single-player</td>\n",
              "      <td>2021-07-20</td>\n",
              "      <td>8.49</td>\n",
              "      <td>34,926</td>\n",
              "      <td>Dinosaur Polo Club</td>\n",
              "      <td>Dinosaur Polo Club</td>\n",
              "      <td>750000.0</td>\n",
              "    </tr>\n",
              "    <tr>\n",
              "      <th>7</th>\n",
              "      <td>Deathloop</td>\n",
              "      <td>Fr</td>\n",
              "      <td>Single-player</td>\n",
              "      <td>2021-09-13</td>\n",
              "      <td>59.99</td>\n",
              "      <td>87,743</td>\n",
              "      <td>Arkane Studios</td>\n",
              "      <td>Bethesda Softworks</td>\n",
              "      <td>1500000.0</td>\n",
              "    </tr>\n",
              "    <tr>\n",
              "      <th>8</th>\n",
              "      <td>Blind drive</td>\n",
              "      <td>Action</td>\n",
              "      <td>Single-player</td>\n",
              "      <td>2021-03-10</td>\n",
              "      <td>9.99</td>\n",
              "      <td>1,102</td>\n",
              "      <td>Lo-Fi People</td>\n",
              "      <td>Lo-Fi People</td>\n",
              "      <td>10000.0</td>\n",
              "    </tr>\n",
              "    <tr>\n",
              "      <th>9</th>\n",
              "      <td>The last friend</td>\n",
              "      <td>Indie</td>\n",
              "      <td>Single-player</td>\n",
              "      <td>2021-09-30</td>\n",
              "      <td>14.99</td>\n",
              "      <td>1,142</td>\n",
              "      <td>Ludus Games</td>\n",
              "      <td>Skystone Games</td>\n",
              "      <td>10000.0</td>\n",
              "    </tr>\n",
              "  </tbody>\n",
              "</table>\n",
              "</div>"
            ],
            "text/plain": [
              "                                          Name       Genre       Category  \\\n",
              "0                     Tetris effect: connected      Casual  Single-player   \n",
              "1                     Chicory: a colorful tale       Indie  Single-player   \n",
              "2  Opus: echo of starsong - full bloom edition   Adventure  Single-player   \n",
              "3                                Psychonauts 2      Action  Single-player   \n",
              "4                                 It takes two      Action   Multi-player   \n",
              "5                                    Ragnarock      Casual  Single-player   \n",
              "6                               Mini motorways  Simulation  Single-player   \n",
              "7                                    Deathloop          Fr  Single-player   \n",
              "8                                  Blind drive      Action  Single-player   \n",
              "9                              The last friend       Indie  Single-player   \n",
              "\n",
              "  Release_Date  Price (in $) Followers               Developers  \\\n",
              "0   2021-08-17         39.99    14,663              Stage Games   \n",
              "1   2021-06-10         19.99    10,504       A Shell in the Pit   \n",
              "2   2021-08-31         24.99    27,588              SIGONO INC.   \n",
              "3   2021-08-24         59.99    37,393  Double Fine Productions   \n",
              "4   2021-03-25         39.99   442,068                Hazelight   \n",
              "5   2021-07-15         24.99     8,354            WanadevStudio   \n",
              "6   2021-07-20          8.49    34,926       Dinosaur Polo Club   \n",
              "7   2021-09-13         59.99    87,743           Arkane Studios   \n",
              "8   2021-03-10          9.99     1,102             Lo-Fi People   \n",
              "9   2021-09-30         14.99     1,142              Ludus Games   \n",
              "\n",
              "           Publishers  Ownership_Midpoint  \n",
              "0             Enhance            350000.0  \n",
              "1               Finji            150000.0  \n",
              "2         SIGONO INC.            350000.0  \n",
              "3   Xbox Game Studios            350000.0  \n",
              "4     Electronic Arts           7500000.0  \n",
              "5       WanadevStudio            150000.0  \n",
              "6  Dinosaur Polo Club            750000.0  \n",
              "7  Bethesda Softworks           1500000.0  \n",
              "8        Lo-Fi People             10000.0  \n",
              "9      Skystone Games             10000.0  "
            ]
          },
          "execution_count": 33,
          "metadata": {},
          "output_type": "execute_result"
        }
      ],
      "source": [
        "games_data['Category'] = games_data['Category'].apply(lambda x: x.split(\",\")[0].strip())\n",
        "games_data.head(10)"
      ]
    },
    {
      "cell_type": "code",
      "execution_count": 34,
      "metadata": {
        "colab": {
          "base_uri": "https://localhost:8080/"
        },
        "id": "9f_jPNvRJCNh",
        "outputId": "9f57b26d-82f5-43a7-dba0-72a28740c419"
      },
      "outputs": [
        {
          "data": {
            "text/plain": [
              "array(['Single-player', 'Multi-player', '', 'Steam Achievements',\n",
              "       'Steam Workshop', 'Steam Cloud', 'Family Sharing',\n",
              "       'Tracked Controller Support', 'In-App Purchases',\n",
              "       'Partial Controller Support'], dtype=object)"
            ]
          },
          "execution_count": 34,
          "metadata": {},
          "output_type": "execute_result"
        }
      ],
      "source": [
        "games_data['Category'].unique()"
      ]
    },
    {
      "cell_type": "code",
      "execution_count": 35,
      "metadata": {
        "colab": {
          "base_uri": "https://localhost:8080/"
        },
        "id": "LlBAn0HyEVmN",
        "outputId": "8a650b3f-ff02-4b01-9b77-93b461a855a1"
      },
      "outputs": [
        {
          "name": "stdout",
          "output_type": "stream",
          "text": [
            "<class 'pandas.core.frame.DataFrame'>\n",
            "Index: 8511 entries, 0 to 9030\n",
            "Data columns (total 9 columns):\n",
            " #   Column              Non-Null Count  Dtype  \n",
            "---  ------              --------------  -----  \n",
            " 0   Name                8511 non-null   object \n",
            " 1   Genre               8511 non-null   object \n",
            " 2   Category            8511 non-null   object \n",
            " 3   Release_Date        8511 non-null   object \n",
            " 4   Price (in $)        8511 non-null   float64\n",
            " 5   Followers           8511 non-null   object \n",
            " 6   Developers          8511 non-null   object \n",
            " 7   Publishers          8511 non-null   object \n",
            " 8   Ownership_Midpoint  8511 non-null   float64\n",
            "dtypes: float64(2), object(7)\n",
            "memory usage: 664.9+ KB\n"
          ]
        }
      ],
      "source": [
        "# Filter out records where Category is not empty\n",
        "games_data = games_data[games_data['Category'] != '']\n",
        "games_data.info()"
      ]
    },
    {
      "cell_type": "code",
      "execution_count": 36,
      "metadata": {
        "colab": {
          "base_uri": "https://localhost:8080/"
        },
        "id": "vNF3X_0GJKN5",
        "outputId": "b08cec99-e636-431e-82e7-00366343e7d3"
      },
      "outputs": [
        {
          "data": {
            "text/plain": [
              "array(['Casual', 'Indie', 'Adventure', 'Action', 'Simulation', 'Fr',\n",
              "       'RPG', 'Racing', 'Massively Multiplayer', 'Strategy', 'Sports',\n",
              "       'Animation & Modeling', 'Utilities', 'Game Development',\n",
              "       'Design & Illustration', 'Software Training', 'Photo Editing',\n",
              "       'Web Publishing', 'Education', 'Video Production', 'Free to Play'],\n",
              "      dtype=object)"
            ]
          },
          "execution_count": 36,
          "metadata": {},
          "output_type": "execute_result"
        }
      ],
      "source": [
        "games_data['Genre'].unique()"
      ]
    },
    {
      "cell_type": "code",
      "execution_count": 37,
      "metadata": {
        "colab": {
          "base_uri": "https://localhost:8080/",
          "height": 363
        },
        "id": "OO__QHEXIEuy",
        "outputId": "cd0be0d1-520c-4b32-f223-ebaf94f9573f"
      },
      "outputs": [
        {
          "data": {
            "text/html": [
              "<div>\n",
              "<style scoped>\n",
              "    .dataframe tbody tr th:only-of-type {\n",
              "        vertical-align: middle;\n",
              "    }\n",
              "\n",
              "    .dataframe tbody tr th {\n",
              "        vertical-align: top;\n",
              "    }\n",
              "\n",
              "    .dataframe thead th {\n",
              "        text-align: right;\n",
              "    }\n",
              "</style>\n",
              "<table border=\"1\" class=\"dataframe\">\n",
              "  <thead>\n",
              "    <tr style=\"text-align: right;\">\n",
              "      <th></th>\n",
              "      <th>Genre</th>\n",
              "      <th>Category</th>\n",
              "      <th>Price (in $)</th>\n",
              "      <th>Followers</th>\n",
              "      <th>Developers</th>\n",
              "      <th>Publishers</th>\n",
              "      <th>Ownership_Midpoint</th>\n",
              "    </tr>\n",
              "  </thead>\n",
              "  <tbody>\n",
              "    <tr>\n",
              "      <th>0</th>\n",
              "      <td>Casual</td>\n",
              "      <td>Single-player</td>\n",
              "      <td>39.99</td>\n",
              "      <td>14,663</td>\n",
              "      <td>Stage Games</td>\n",
              "      <td>Enhance</td>\n",
              "      <td>350000.0</td>\n",
              "    </tr>\n",
              "    <tr>\n",
              "      <th>1</th>\n",
              "      <td>Indie</td>\n",
              "      <td>Single-player</td>\n",
              "      <td>19.99</td>\n",
              "      <td>10,504</td>\n",
              "      <td>A Shell in the Pit</td>\n",
              "      <td>Finji</td>\n",
              "      <td>150000.0</td>\n",
              "    </tr>\n",
              "    <tr>\n",
              "      <th>2</th>\n",
              "      <td>Adventure</td>\n",
              "      <td>Single-player</td>\n",
              "      <td>24.99</td>\n",
              "      <td>27,588</td>\n",
              "      <td>SIGONO INC.</td>\n",
              "      <td>SIGONO INC.</td>\n",
              "      <td>350000.0</td>\n",
              "    </tr>\n",
              "    <tr>\n",
              "      <th>3</th>\n",
              "      <td>Action</td>\n",
              "      <td>Single-player</td>\n",
              "      <td>59.99</td>\n",
              "      <td>37,393</td>\n",
              "      <td>Double Fine Productions</td>\n",
              "      <td>Xbox Game Studios</td>\n",
              "      <td>350000.0</td>\n",
              "    </tr>\n",
              "    <tr>\n",
              "      <th>4</th>\n",
              "      <td>Action</td>\n",
              "      <td>Multi-player</td>\n",
              "      <td>39.99</td>\n",
              "      <td>442,068</td>\n",
              "      <td>Hazelight</td>\n",
              "      <td>Electronic Arts</td>\n",
              "      <td>7500000.0</td>\n",
              "    </tr>\n",
              "    <tr>\n",
              "      <th>5</th>\n",
              "      <td>Casual</td>\n",
              "      <td>Single-player</td>\n",
              "      <td>24.99</td>\n",
              "      <td>8,354</td>\n",
              "      <td>WanadevStudio</td>\n",
              "      <td>WanadevStudio</td>\n",
              "      <td>150000.0</td>\n",
              "    </tr>\n",
              "    <tr>\n",
              "      <th>6</th>\n",
              "      <td>Simulation</td>\n",
              "      <td>Single-player</td>\n",
              "      <td>8.49</td>\n",
              "      <td>34,926</td>\n",
              "      <td>Dinosaur Polo Club</td>\n",
              "      <td>Dinosaur Polo Club</td>\n",
              "      <td>750000.0</td>\n",
              "    </tr>\n",
              "    <tr>\n",
              "      <th>7</th>\n",
              "      <td>Fr</td>\n",
              "      <td>Single-player</td>\n",
              "      <td>59.99</td>\n",
              "      <td>87,743</td>\n",
              "      <td>Arkane Studios</td>\n",
              "      <td>Bethesda Softworks</td>\n",
              "      <td>1500000.0</td>\n",
              "    </tr>\n",
              "    <tr>\n",
              "      <th>8</th>\n",
              "      <td>Action</td>\n",
              "      <td>Single-player</td>\n",
              "      <td>9.99</td>\n",
              "      <td>1,102</td>\n",
              "      <td>Lo-Fi People</td>\n",
              "      <td>Lo-Fi People</td>\n",
              "      <td>10000.0</td>\n",
              "    </tr>\n",
              "    <tr>\n",
              "      <th>9</th>\n",
              "      <td>Indie</td>\n",
              "      <td>Single-player</td>\n",
              "      <td>14.99</td>\n",
              "      <td>1,142</td>\n",
              "      <td>Ludus Games</td>\n",
              "      <td>Skystone Games</td>\n",
              "      <td>10000.0</td>\n",
              "    </tr>\n",
              "  </tbody>\n",
              "</table>\n",
              "</div>"
            ],
            "text/plain": [
              "        Genre       Category  Price (in $) Followers               Developers  \\\n",
              "0      Casual  Single-player         39.99    14,663              Stage Games   \n",
              "1       Indie  Single-player         19.99    10,504       A Shell in the Pit   \n",
              "2   Adventure  Single-player         24.99    27,588              SIGONO INC.   \n",
              "3      Action  Single-player         59.99    37,393  Double Fine Productions   \n",
              "4      Action   Multi-player         39.99   442,068                Hazelight   \n",
              "5      Casual  Single-player         24.99     8,354            WanadevStudio   \n",
              "6  Simulation  Single-player          8.49    34,926       Dinosaur Polo Club   \n",
              "7          Fr  Single-player         59.99    87,743           Arkane Studios   \n",
              "8      Action  Single-player          9.99     1,102             Lo-Fi People   \n",
              "9       Indie  Single-player         14.99     1,142              Ludus Games   \n",
              "\n",
              "           Publishers  Ownership_Midpoint  \n",
              "0             Enhance            350000.0  \n",
              "1               Finji            150000.0  \n",
              "2         SIGONO INC.            350000.0  \n",
              "3   Xbox Game Studios            350000.0  \n",
              "4     Electronic Arts           7500000.0  \n",
              "5       WanadevStudio            150000.0  \n",
              "6  Dinosaur Polo Club            750000.0  \n",
              "7  Bethesda Softworks           1500000.0  \n",
              "8        Lo-Fi People             10000.0  \n",
              "9      Skystone Games             10000.0  "
            ]
          },
          "execution_count": 37,
          "metadata": {},
          "output_type": "execute_result"
        }
      ],
      "source": [
        "games_data = games_data.drop(columns=['Name', 'Release_Date'])\n",
        "games_data.head(10)"
      ]
    },
    {
      "cell_type": "code",
      "execution_count": 38,
      "metadata": {
        "id": "Z1qOMmV9J225"
      },
      "outputs": [],
      "source": [
        "# Remove commas from 'Followers' column\n",
        "games_data['Followers'] = games_data['Followers'].str.replace(',', '')"
      ]
    },
    {
      "cell_type": "code",
      "execution_count": 39,
      "metadata": {
        "id": "6O5C587CJZ-P"
      },
      "outputs": [],
      "source": [
        "# Convert 'Followers' column to int64\n",
        "games_data['Followers'] = games_data['Followers'].astype(int)"
      ]
    },
    {
      "cell_type": "code",
      "execution_count": 40,
      "metadata": {
        "colab": {
          "base_uri": "https://localhost:8080/"
        },
        "id": "BO9CztZAJqtg",
        "outputId": "66469812-6500-42e4-be77-3264497a36d7"
      },
      "outputs": [
        {
          "name": "stdout",
          "output_type": "stream",
          "text": [
            "<class 'pandas.core.frame.DataFrame'>\n",
            "Index: 8511 entries, 0 to 9030\n",
            "Data columns (total 7 columns):\n",
            " #   Column              Non-Null Count  Dtype  \n",
            "---  ------              --------------  -----  \n",
            " 0   Genre               8511 non-null   object \n",
            " 1   Category            8511 non-null   object \n",
            " 2   Price (in $)        8511 non-null   float64\n",
            " 3   Followers           8511 non-null   int64  \n",
            " 4   Developers          8511 non-null   object \n",
            " 5   Publishers          8511 non-null   object \n",
            " 6   Ownership_Midpoint  8511 non-null   float64\n",
            "dtypes: float64(2), int64(1), object(4)\n",
            "memory usage: 531.9+ KB\n"
          ]
        }
      ],
      "source": [
        "games_data.info()"
      ]
    },
    {
      "cell_type": "code",
      "execution_count": 41,
      "metadata": {
        "id": "aH7L11U3GzlH"
      },
      "outputs": [],
      "source": [
        "# from sklearn.preprocessing import LabelEncoder\n",
        "# Le = LabelEncoder()\n",
        "\n",
        "# games_data['Genre'] = Le.fit_transform(games_data['Genre'])\n",
        "# games_data['Category'] = Le.fit_transform(games_data['Category'])\n",
        "# games_data['Developers'] = Le.fit_transform(games_data['Developers'])\n",
        "# games_data['Publishers'] = Le.fit_transform(games_data['Publishers'])"
      ]
    },
    {
      "cell_type": "code",
      "execution_count": 42,
      "metadata": {
        "id": "ZAiJ5WmKrdAa"
      },
      "outputs": [],
      "source": [
        "# games_data['Developers'] = games_data['Developers'].astype(str)\n",
        "# games_data['Publishers'] = games_data['Publishers'].astype(str)"
      ]
    },
    {
      "cell_type": "code",
      "execution_count": 43,
      "metadata": {
        "colab": {
          "base_uri": "https://localhost:8080/",
          "height": 363
        },
        "id": "WUxoynZcQcMN",
        "outputId": "825f86b2-7d6a-4770-9d38-39bda84bc0e4"
      },
      "outputs": [
        {
          "data": {
            "text/html": [
              "<div>\n",
              "<style scoped>\n",
              "    .dataframe tbody tr th:only-of-type {\n",
              "        vertical-align: middle;\n",
              "    }\n",
              "\n",
              "    .dataframe tbody tr th {\n",
              "        vertical-align: top;\n",
              "    }\n",
              "\n",
              "    .dataframe thead th {\n",
              "        text-align: right;\n",
              "    }\n",
              "</style>\n",
              "<table border=\"1\" class=\"dataframe\">\n",
              "  <thead>\n",
              "    <tr style=\"text-align: right;\">\n",
              "      <th></th>\n",
              "      <th>Genre</th>\n",
              "      <th>Category</th>\n",
              "      <th>Price (in $)</th>\n",
              "      <th>Followers</th>\n",
              "      <th>Developers</th>\n",
              "      <th>Publishers</th>\n",
              "      <th>Num_Owners</th>\n",
              "    </tr>\n",
              "  </thead>\n",
              "  <tbody>\n",
              "    <tr>\n",
              "      <th>0</th>\n",
              "      <td>Casual</td>\n",
              "      <td>Single-player</td>\n",
              "      <td>39.99</td>\n",
              "      <td>14663</td>\n",
              "      <td>Stage Games</td>\n",
              "      <td>Enhance</td>\n",
              "      <td>350000.0</td>\n",
              "    </tr>\n",
              "    <tr>\n",
              "      <th>1</th>\n",
              "      <td>Indie</td>\n",
              "      <td>Single-player</td>\n",
              "      <td>19.99</td>\n",
              "      <td>10504</td>\n",
              "      <td>A Shell in the Pit</td>\n",
              "      <td>Finji</td>\n",
              "      <td>150000.0</td>\n",
              "    </tr>\n",
              "    <tr>\n",
              "      <th>2</th>\n",
              "      <td>Adventure</td>\n",
              "      <td>Single-player</td>\n",
              "      <td>24.99</td>\n",
              "      <td>27588</td>\n",
              "      <td>SIGONO INC.</td>\n",
              "      <td>SIGONO INC.</td>\n",
              "      <td>350000.0</td>\n",
              "    </tr>\n",
              "    <tr>\n",
              "      <th>3</th>\n",
              "      <td>Action</td>\n",
              "      <td>Single-player</td>\n",
              "      <td>59.99</td>\n",
              "      <td>37393</td>\n",
              "      <td>Double Fine Productions</td>\n",
              "      <td>Xbox Game Studios</td>\n",
              "      <td>350000.0</td>\n",
              "    </tr>\n",
              "    <tr>\n",
              "      <th>4</th>\n",
              "      <td>Action</td>\n",
              "      <td>Multi-player</td>\n",
              "      <td>39.99</td>\n",
              "      <td>442068</td>\n",
              "      <td>Hazelight</td>\n",
              "      <td>Electronic Arts</td>\n",
              "      <td>7500000.0</td>\n",
              "    </tr>\n",
              "    <tr>\n",
              "      <th>5</th>\n",
              "      <td>Casual</td>\n",
              "      <td>Single-player</td>\n",
              "      <td>24.99</td>\n",
              "      <td>8354</td>\n",
              "      <td>WanadevStudio</td>\n",
              "      <td>WanadevStudio</td>\n",
              "      <td>150000.0</td>\n",
              "    </tr>\n",
              "    <tr>\n",
              "      <th>6</th>\n",
              "      <td>Simulation</td>\n",
              "      <td>Single-player</td>\n",
              "      <td>8.49</td>\n",
              "      <td>34926</td>\n",
              "      <td>Dinosaur Polo Club</td>\n",
              "      <td>Dinosaur Polo Club</td>\n",
              "      <td>750000.0</td>\n",
              "    </tr>\n",
              "    <tr>\n",
              "      <th>7</th>\n",
              "      <td>Fr</td>\n",
              "      <td>Single-player</td>\n",
              "      <td>59.99</td>\n",
              "      <td>87743</td>\n",
              "      <td>Arkane Studios</td>\n",
              "      <td>Bethesda Softworks</td>\n",
              "      <td>1500000.0</td>\n",
              "    </tr>\n",
              "    <tr>\n",
              "      <th>8</th>\n",
              "      <td>Action</td>\n",
              "      <td>Single-player</td>\n",
              "      <td>9.99</td>\n",
              "      <td>1102</td>\n",
              "      <td>Lo-Fi People</td>\n",
              "      <td>Lo-Fi People</td>\n",
              "      <td>10000.0</td>\n",
              "    </tr>\n",
              "    <tr>\n",
              "      <th>9</th>\n",
              "      <td>Indie</td>\n",
              "      <td>Single-player</td>\n",
              "      <td>14.99</td>\n",
              "      <td>1142</td>\n",
              "      <td>Ludus Games</td>\n",
              "      <td>Skystone Games</td>\n",
              "      <td>10000.0</td>\n",
              "    </tr>\n",
              "  </tbody>\n",
              "</table>\n",
              "</div>"
            ],
            "text/plain": [
              "        Genre       Category  Price (in $)  Followers  \\\n",
              "0      Casual  Single-player         39.99      14663   \n",
              "1       Indie  Single-player         19.99      10504   \n",
              "2   Adventure  Single-player         24.99      27588   \n",
              "3      Action  Single-player         59.99      37393   \n",
              "4      Action   Multi-player         39.99     442068   \n",
              "5      Casual  Single-player         24.99       8354   \n",
              "6  Simulation  Single-player          8.49      34926   \n",
              "7          Fr  Single-player         59.99      87743   \n",
              "8      Action  Single-player          9.99       1102   \n",
              "9       Indie  Single-player         14.99       1142   \n",
              "\n",
              "                Developers          Publishers  Num_Owners  \n",
              "0              Stage Games             Enhance    350000.0  \n",
              "1       A Shell in the Pit               Finji    150000.0  \n",
              "2              SIGONO INC.         SIGONO INC.    350000.0  \n",
              "3  Double Fine Productions   Xbox Game Studios    350000.0  \n",
              "4                Hazelight     Electronic Arts   7500000.0  \n",
              "5            WanadevStudio       WanadevStudio    150000.0  \n",
              "6       Dinosaur Polo Club  Dinosaur Polo Club    750000.0  \n",
              "7           Arkane Studios  Bethesda Softworks   1500000.0  \n",
              "8             Lo-Fi People        Lo-Fi People     10000.0  \n",
              "9              Ludus Games      Skystone Games     10000.0  "
            ]
          },
          "execution_count": 43,
          "metadata": {},
          "output_type": "execute_result"
        }
      ],
      "source": [
        "games_data = games_data.rename(columns={'Ownership_Midpoint': 'Num_Owners'})\n",
        "games_data.head(10)"
      ]
    },
    {
      "cell_type": "markdown",
      "metadata": {
        "id": "gLxCykokTFEa"
      },
      "source": [
        "# Fitting the Model"
      ]
    },
    {
      "cell_type": "markdown",
      "metadata": {
        "id": "Q6bHVxD0TXnK"
      },
      "source": [
        "## Splitting the data into training and testing datasets"
      ]
    },
    {
      "cell_type": "code",
      "execution_count": 44,
      "metadata": {
        "id": "xKZDZjKKTzC6"
      },
      "outputs": [
        {
          "name": "stderr",
          "output_type": "stream",
          "text": [
            "/Users/mn/Library/Python/3.9/lib/python/site-packages/urllib3/__init__.py:34: NotOpenSSLWarning: urllib3 v2.0 only supports OpenSSL 1.1.1+, currently the 'ssl' module is compiled with 'LibreSSL 2.8.3'. See: https://github.com/urllib3/urllib3/issues/3020\n",
            "  warnings.warn(\n"
          ]
        }
      ],
      "source": [
        "from sklearn.model_selection import train_test_split\n",
        "from sklearn.preprocessing import StandardScaler\n",
        "from tensorflow.keras.models import Sequential\n",
        "from tensorflow.keras.layers import Dense\n",
        "from tensorflow.keras.optimizers import Adam"
      ]
    },
    {
      "cell_type": "code",
      "execution_count": 45,
      "metadata": {
        "id": "K5TxOjolSRUq"
      },
      "outputs": [],
      "source": [
        "X = games_data.drop(columns='Num_Owners')\n",
        "y = games_data['Num_Owners']"
      ]
    },
    {
      "cell_type": "code",
      "execution_count": 46,
      "metadata": {
        "id": "kqtX6xFRTq_C"
      },
      "outputs": [],
      "source": [
        "# # normalizing numerical features\n",
        "# scaler = StandardScaler()\n",
        "# X_scaled = scaler.fit_transform(X)"
      ]
    },
    {
      "cell_type": "code",
      "execution_count": 47,
      "metadata": {
        "id": "YyUeToBeT8bJ"
      },
      "outputs": [],
      "source": [
        "# splitting the data into training and testing datasets\n",
        "X_train, X_test, y_train, y_test = train_test_split(X, y, test_size=0.2, random_state=69)"
      ]
    },
    {
      "cell_type": "code",
      "execution_count": 48,
      "metadata": {
        "id": "LBFlv1Gttq7A"
      },
      "outputs": [],
      "source": [
        "import category_encoders as ce\n",
        "\n",
        "# Initialize target encoder\n",
        "target_encoder = ce.TargetEncoder(cols=['Genre', 'Category', 'Developers', 'Publishers'])\n",
        "\n",
        "# Fit target encoder on training data and transform both training and testing data\n",
        "X_train_encoded = target_encoder.fit_transform(X_train, y_train)\n",
        "X_test_encoded = target_encoder.transform(X_test)"
      ]
    },
    {
      "cell_type": "code",
      "execution_count": 49,
      "metadata": {
        "colab": {
          "base_uri": "https://localhost:8080/"
        },
        "id": "vhNVoBtYrxbE",
        "outputId": "257510fe-d89d-48a6-dc7f-644a4a97697c"
      },
      "outputs": [
        {
          "data": {
            "text/plain": [
              "((6808, 6), (1703, 6), (6808,), (1703,))"
            ]
          },
          "execution_count": 49,
          "metadata": {},
          "output_type": "execute_result"
        }
      ],
      "source": [
        "X_train_encoded.shape, X_test_encoded.shape, y_train.shape, y_test.shape"
      ]
    },
    {
      "cell_type": "markdown",
      "metadata": {
        "id": "UTtj2Am4UOu8"
      },
      "source": [
        "## Fitting the data"
      ]
    },
    {
      "cell_type": "code",
      "execution_count": 50,
      "metadata": {
        "colab": {
          "base_uri": "https://localhost:8080/",
          "height": 1000
        },
        "id": "S4tG53FfUNfE",
        "outputId": "a2a76734-3180-4990-c872-6b51e0ca2b01"
      },
      "outputs": [
        {
          "name": "stdout",
          "output_type": "stream",
          "text": [
            "Epoch 1/500\n"
          ]
        },
        {
          "name": "stderr",
          "output_type": "stream",
          "text": [
            "/Users/mn/Library/Python/3.9/lib/python/site-packages/keras/src/layers/core/dense.py:86: UserWarning: Do not pass an `input_shape`/`input_dim` argument to a layer. When using Sequential models, prefer using an `Input(shape)` object as the first layer in the model instead.\n",
            "  super().__init__(activity_regularizer=activity_regularizer, **kwargs)\n"
          ]
        },
        {
          "name": "stdout",
          "output_type": "stream",
          "text": [
            "\u001b[1m171/171\u001b[0m \u001b[32m━━━━━━━━━━━━━━━━━━━━\u001b[0m\u001b[37m\u001b[0m \u001b[1m26s\u001b[0m 149ms/step - loss: 289531789312.0000 - val_loss: 11899260928.0000\n",
            "Epoch 2/500\n",
            "\u001b[1m171/171\u001b[0m \u001b[32m━━━━━━━━━━━━━━━━━━━━\u001b[0m\u001b[37m\u001b[0m \u001b[1m25s\u001b[0m 145ms/step - loss: 218915258368.0000 - val_loss: 10815780864.0000\n",
            "Epoch 3/500\n",
            "\u001b[1m171/171\u001b[0m \u001b[32m━━━━━━━━━━━━━━━━━━━━\u001b[0m\u001b[37m\u001b[0m \u001b[1m25s\u001b[0m 148ms/step - loss: 1983095635968.0000 - val_loss: 16382348288.0000\n",
            "Epoch 4/500\n",
            "\u001b[1m171/171\u001b[0m \u001b[32m━━━━━━━━━━━━━━━━━━━━\u001b[0m\u001b[37m\u001b[0m \u001b[1m25s\u001b[0m 144ms/step - loss: 297544777728.0000 - val_loss: 38071767040.0000\n",
            "Epoch 5/500\n",
            "\u001b[1m171/171\u001b[0m \u001b[32m━━━━━━━━━━━━━━━━━━━━\u001b[0m\u001b[37m\u001b[0m \u001b[1m25s\u001b[0m 145ms/step - loss: 172795527168.0000 - val_loss: 26360852480.0000\n",
            "Epoch 6/500\n",
            "\u001b[1m171/171\u001b[0m \u001b[32m━━━━━━━━━━━━━━━━━━━━\u001b[0m\u001b[37m\u001b[0m \u001b[1m26s\u001b[0m 153ms/step - loss: 75270733824.0000 - val_loss: 32896110592.0000\n",
            "Epoch 7/500\n",
            "\u001b[1m171/171\u001b[0m \u001b[32m━━━━━━━━━━━━━━━━━━━━\u001b[0m\u001b[37m\u001b[0m \u001b[1m29s\u001b[0m 171ms/step - loss: 73418104832.0000 - val_loss: 10767952896.0000\n",
            "Epoch 8/500\n",
            "\u001b[1m171/171\u001b[0m \u001b[32m━━━━━━━━━━━━━━━━━━━━\u001b[0m\u001b[37m\u001b[0m \u001b[1m32s\u001b[0m 189ms/step - loss: 1394956173312.0000 - val_loss: 17235095552.0000\n",
            "Epoch 9/500\n",
            "\u001b[1m171/171\u001b[0m \u001b[32m━━━━━━━━━━━━━━━━━━━━\u001b[0m\u001b[37m\u001b[0m \u001b[1m34s\u001b[0m 196ms/step - loss: 151252746240.0000 - val_loss: 264008925184.0000\n",
            "Epoch 10/500\n",
            "\u001b[1m171/171\u001b[0m \u001b[32m━━━━━━━━━━━━━━━━━━━━\u001b[0m\u001b[37m\u001b[0m \u001b[1m33s\u001b[0m 193ms/step - loss: 152980520960.0000 - val_loss: 107633598464.0000\n",
            "Epoch 11/500\n",
            "\u001b[1m171/171\u001b[0m \u001b[32m━━━━━━━━━━━━━━━━━━━━\u001b[0m\u001b[37m\u001b[0m \u001b[1m33s\u001b[0m 195ms/step - loss: 1433978142720.0000 - val_loss: 26473699328.0000\n",
            "Epoch 12/500\n",
            "\u001b[1m171/171\u001b[0m \u001b[32m━━━━━━━━━━━━━━━━━━━━\u001b[0m\u001b[37m\u001b[0m \u001b[1m32s\u001b[0m 190ms/step - loss: 155817902080.0000 - val_loss: 11505870848.0000\n",
            "Epoch 13/500\n",
            "\u001b[1m171/171\u001b[0m \u001b[32m━━━━━━━━━━━━━━━━━━━━\u001b[0m\u001b[37m\u001b[0m \u001b[1m32s\u001b[0m 189ms/step - loss: 60206776320.0000 - val_loss: 47363850240.0000\n",
            "Epoch 14/500\n",
            "\u001b[1m171/171\u001b[0m \u001b[32m━━━━━━━━━━━━━━━━━━━━\u001b[0m\u001b[37m\u001b[0m \u001b[1m32s\u001b[0m 190ms/step - loss: 1012405370880.0000 - val_loss: 31039602688.0000\n",
            "Epoch 15/500\n",
            "\u001b[1m171/171\u001b[0m \u001b[32m━━━━━━━━━━━━━━━━━━━━\u001b[0m\u001b[37m\u001b[0m \u001b[1m32s\u001b[0m 188ms/step - loss: 198053199872.0000 - val_loss: 23761317888.0000\n",
            "Epoch 16/500\n",
            "\u001b[1m171/171\u001b[0m \u001b[32m━━━━━━━━━━━━━━━━━━━━\u001b[0m\u001b[37m\u001b[0m \u001b[1m33s\u001b[0m 193ms/step - loss: 106557153280.0000 - val_loss: 13375336448.0000\n",
            "Epoch 17/500\n",
            "\u001b[1m171/171\u001b[0m \u001b[32m━━━━━━━━━━━━━━━━━━━━\u001b[0m\u001b[37m\u001b[0m \u001b[1m33s\u001b[0m 195ms/step - loss: 108507545600.0000 - val_loss: 51998961664.0000\n",
            "Epoch 18/500\n",
            "\u001b[1m171/171\u001b[0m \u001b[32m━━━━━━━━━━━━━━━━━━━━\u001b[0m\u001b[37m\u001b[0m \u001b[1m33s\u001b[0m 192ms/step - loss: 205957857280.0000 - val_loss: 22748155904.0000\n",
            "Epoch 19/500\n",
            "\u001b[1m171/171\u001b[0m \u001b[32m━━━━━━━━━━━━━━━━━━━━\u001b[0m\u001b[37m\u001b[0m \u001b[1m32s\u001b[0m 187ms/step - loss: 479185141760.0000 - val_loss: 14942430208.0000\n",
            "Epoch 20/500\n",
            "\u001b[1m171/171\u001b[0m \u001b[32m━━━━━━━━━━━━━━━━━━━━\u001b[0m\u001b[37m\u001b[0m \u001b[1m32s\u001b[0m 190ms/step - loss: 462771388416.0000 - val_loss: 10569334784.0000\n",
            "Epoch 21/500\n",
            "\u001b[1m171/171\u001b[0m \u001b[32m━━━━━━━━━━━━━━━━━━━━\u001b[0m\u001b[37m\u001b[0m \u001b[1m33s\u001b[0m 194ms/step - loss: 78842994688.0000 - val_loss: 195374841856.0000\n",
            "Epoch 22/500\n",
            "\u001b[1m171/171\u001b[0m \u001b[32m━━━━━━━━━━━━━━━━━━━━\u001b[0m\u001b[37m\u001b[0m \u001b[1m33s\u001b[0m 191ms/step - loss: 247387914240.0000 - val_loss: 37345259520.0000\n",
            "Epoch 23/500\n",
            "\u001b[1m171/171\u001b[0m \u001b[32m━━━━━━━━━━━━━━━━━━━━\u001b[0m\u001b[37m\u001b[0m \u001b[1m33s\u001b[0m 194ms/step - loss: 450173206528.0000 - val_loss: 38031163392.0000\n",
            "Epoch 24/500\n",
            "\u001b[1m171/171\u001b[0m \u001b[32m━━━━━━━━━━━━━━━━━━━━\u001b[0m\u001b[37m\u001b[0m \u001b[1m33s\u001b[0m 192ms/step - loss: 443568357376.0000 - val_loss: 50720444416.0000\n",
            "Epoch 25/500\n",
            "\u001b[1m171/171\u001b[0m \u001b[32m━━━━━━━━━━━━━━━━━━━━\u001b[0m\u001b[37m\u001b[0m \u001b[1m33s\u001b[0m 193ms/step - loss: 207819653120.0000 - val_loss: 58627579904.0000\n",
            "Epoch 26/500\n",
            "\u001b[1m171/171\u001b[0m \u001b[32m━━━━━━━━━━━━━━━━━━━━\u001b[0m\u001b[37m\u001b[0m \u001b[1m33s\u001b[0m 192ms/step - loss: 135703347200.0000 - val_loss: 34013437952.0000\n",
            "Epoch 27/500\n",
            "\u001b[1m171/171\u001b[0m \u001b[32m━━━━━━━━━━━━━━━━━━━━\u001b[0m\u001b[37m\u001b[0m \u001b[1m34s\u001b[0m 197ms/step - loss: 262060081152.0000 - val_loss: 19760443392.0000\n",
            "Epoch 28/500\n",
            "\u001b[1m171/171\u001b[0m \u001b[32m━━━━━━━━━━━━━━━━━━━━\u001b[0m\u001b[37m\u001b[0m \u001b[1m33s\u001b[0m 195ms/step - loss: 158515691520.0000 - val_loss: 33798133760.0000\n",
            "Epoch 29/500\n",
            "\u001b[1m171/171\u001b[0m \u001b[32m━━━━━━━━━━━━━━━━━━━━\u001b[0m\u001b[37m\u001b[0m \u001b[1m34s\u001b[0m 198ms/step - loss: 833582792704.0000 - val_loss: 37690494976.0000\n",
            "Epoch 30/500\n",
            "\u001b[1m171/171\u001b[0m \u001b[32m━━━━━━━━━━━━━━━━━━━━\u001b[0m\u001b[37m\u001b[0m \u001b[1m34s\u001b[0m 199ms/step - loss: 1895372161024.0000 - val_loss: 16489594880.0000\n",
            "Epoch 31/500\n",
            "\u001b[1m171/171\u001b[0m \u001b[32m━━━━━━━━━━━━━━━━━━━━\u001b[0m\u001b[37m\u001b[0m \u001b[1m33s\u001b[0m 195ms/step - loss: 26837753856.0000 - val_loss: 17176793088.0000\n",
            "Epoch 32/500\n",
            "\u001b[1m171/171\u001b[0m \u001b[32m━━━━━━━━━━━━━━━━━━━━\u001b[0m\u001b[37m\u001b[0m \u001b[1m34s\u001b[0m 197ms/step - loss: 246100426752.0000 - val_loss: 40931438592.0000\n",
            "Epoch 33/500\n",
            "\u001b[1m171/171\u001b[0m \u001b[32m━━━━━━━━━━━━━━━━━━━━\u001b[0m\u001b[37m\u001b[0m \u001b[1m33s\u001b[0m 196ms/step - loss: 410130022400.0000 - val_loss: 21062981632.0000\n",
            "Epoch 34/500\n",
            "\u001b[1m171/171\u001b[0m \u001b[32m━━━━━━━━━━━━━━━━━━━━\u001b[0m\u001b[37m\u001b[0m \u001b[1m34s\u001b[0m 196ms/step - loss: 201901391872.0000 - val_loss: 44602294272.0000\n",
            "Epoch 35/500\n",
            "\u001b[1m171/171\u001b[0m \u001b[32m━━━━━━━━━━━━━━━━━━━━\u001b[0m\u001b[37m\u001b[0m \u001b[1m34s\u001b[0m 196ms/step - loss: 98643738624.0000 - val_loss: 67726794752.0000\n",
            "Epoch 36/500\n",
            "\u001b[1m171/171\u001b[0m \u001b[32m━━━━━━━━━━━━━━━━━━━━\u001b[0m\u001b[37m\u001b[0m \u001b[1m34s\u001b[0m 199ms/step - loss: 1327980609536.0000 - val_loss: 16957705216.0000\n",
            "Epoch 37/500\n",
            "\u001b[1m171/171\u001b[0m \u001b[32m━━━━━━━━━━━━━━━━━━━━\u001b[0m\u001b[37m\u001b[0m \u001b[1m33s\u001b[0m 194ms/step - loss: 173017972736.0000 - val_loss: 18685960192.0000\n",
            "Epoch 38/500\n",
            "\u001b[1m171/171\u001b[0m \u001b[32m━━━━━━━━━━━━━━━━━━━━\u001b[0m\u001b[37m\u001b[0m \u001b[1m34s\u001b[0m 199ms/step - loss: 43819937792.0000 - val_loss: 22627944448.0000\n",
            "Epoch 39/500\n",
            "\u001b[1m171/171\u001b[0m \u001b[32m━━━━━━━━━━━━━━━━━━━━\u001b[0m\u001b[37m\u001b[0m \u001b[1m35s\u001b[0m 207ms/step - loss: 20830502912.0000 - val_loss: 17498472448.0000\n",
            "Epoch 40/500\n",
            "\u001b[1m171/171\u001b[0m \u001b[32m━━━━━━━━━━━━━━━━━━━━\u001b[0m\u001b[37m\u001b[0m \u001b[1m34s\u001b[0m 197ms/step - loss: 317176905728.0000 - val_loss: 16434984960.0000\n",
            "Epoch 41/500\n",
            "\u001b[1m171/171\u001b[0m \u001b[32m━━━━━━━━━━━━━━━━━━━━\u001b[0m\u001b[37m\u001b[0m \u001b[1m34s\u001b[0m 196ms/step - loss: 528446423040.0000 - val_loss: 27775725568.0000\n",
            "Epoch 42/500\n",
            "\u001b[1m171/171\u001b[0m \u001b[32m━━━━━━━━━━━━━━━━━━━━\u001b[0m\u001b[37m\u001b[0m \u001b[1m34s\u001b[0m 197ms/step - loss: 1449726050304.0000 - val_loss: 10819831808.0000\n",
            "Epoch 43/500\n",
            "\u001b[1m171/171\u001b[0m \u001b[32m━━━━━━━━━━━━━━━━━━━━\u001b[0m\u001b[37m\u001b[0m \u001b[1m34s\u001b[0m 200ms/step - loss: 942955429888.0000 - val_loss: 12446765056.0000\n",
            "Epoch 44/500\n",
            "\u001b[1m171/171\u001b[0m \u001b[32m━━━━━━━━━━━━━━━━━━━━\u001b[0m\u001b[37m\u001b[0m \u001b[1m34s\u001b[0m 196ms/step - loss: 135199113216.0000 - val_loss: 14005468160.0000\n",
            "Epoch 45/500\n",
            "\u001b[1m171/171\u001b[0m \u001b[32m━━━━━━━━━━━━━━━━━━━━\u001b[0m\u001b[37m\u001b[0m \u001b[1m34s\u001b[0m 200ms/step - loss: 34542895104.0000 - val_loss: 14499870720.0000\n",
            "Epoch 46/500\n",
            "\u001b[1m171/171\u001b[0m \u001b[32m━━━━━━━━━━━━━━━━━━━━\u001b[0m\u001b[37m\u001b[0m \u001b[1m34s\u001b[0m 198ms/step - loss: 964078731264.0000 - val_loss: 13164550144.0000\n",
            "Epoch 47/500\n",
            "\u001b[1m171/171\u001b[0m \u001b[32m━━━━━━━━━━━━━━━━━━━━\u001b[0m\u001b[37m\u001b[0m \u001b[1m34s\u001b[0m 198ms/step - loss: 616280752128.0000 - val_loss: 12395027456.0000\n",
            "Epoch 48/500\n",
            "\u001b[1m171/171\u001b[0m \u001b[32m━━━━━━━━━━━━━━━━━━━━\u001b[0m\u001b[37m\u001b[0m \u001b[1m34s\u001b[0m 198ms/step - loss: 915186188288.0000 - val_loss: 11886678016.0000\n",
            "Epoch 49/500\n",
            "\u001b[1m171/171\u001b[0m \u001b[32m━━━━━━━━━━━━━━━━━━━━\u001b[0m\u001b[37m\u001b[0m \u001b[1m34s\u001b[0m 199ms/step - loss: 27123509248.0000 - val_loss: 12479819776.0000\n",
            "Epoch 50/500\n",
            "\u001b[1m171/171\u001b[0m \u001b[32m━━━━━━━━━━━━━━━━━━━━\u001b[0m\u001b[37m\u001b[0m \u001b[1m34s\u001b[0m 200ms/step - loss: 71250124800.0000 - val_loss: 21355372544.0000\n",
            "Epoch 51/500\n",
            "\u001b[1m171/171\u001b[0m \u001b[32m━━━━━━━━━━━━━━━━━━━━\u001b[0m\u001b[37m\u001b[0m \u001b[1m34s\u001b[0m 198ms/step - loss: 819615825920.0000 - val_loss: 15027569664.0000\n",
            "Epoch 52/500\n",
            "\u001b[1m171/171\u001b[0m \u001b[32m━━━━━━━━━━━━━━━━━━━━\u001b[0m\u001b[37m\u001b[0m \u001b[1m34s\u001b[0m 196ms/step - loss: 1411510304768.0000 - val_loss: 17394536448.0000\n",
            "Epoch 53/500\n",
            "\u001b[1m171/171\u001b[0m \u001b[32m━━━━━━━━━━━━━━━━━━━━\u001b[0m\u001b[37m\u001b[0m \u001b[1m34s\u001b[0m 197ms/step - loss: 246922641408.0000 - val_loss: 14180046848.0000\n",
            "Epoch 54/500\n",
            "\u001b[1m171/171\u001b[0m \u001b[32m━━━━━━━━━━━━━━━━━━━━\u001b[0m\u001b[37m\u001b[0m \u001b[1m34s\u001b[0m 199ms/step - loss: 38815875072.0000 - val_loss: 35889528832.0000\n",
            "Epoch 55/500\n",
            "\u001b[1m171/171\u001b[0m \u001b[32m━━━━━━━━━━━━━━━━━━━━\u001b[0m\u001b[37m\u001b[0m \u001b[1m34s\u001b[0m 200ms/step - loss: 38315630592.0000 - val_loss: 12654756864.0000\n",
            "Epoch 56/500\n",
            "\u001b[1m171/171\u001b[0m \u001b[32m━━━━━━━━━━━━━━━━━━━━\u001b[0m\u001b[37m\u001b[0m \u001b[1m34s\u001b[0m 198ms/step - loss: 60607266816.0000 - val_loss: 12548433920.0000\n",
            "Epoch 57/500\n",
            "\u001b[1m171/171\u001b[0m \u001b[32m━━━━━━━━━━━━━━━━━━━━\u001b[0m\u001b[37m\u001b[0m \u001b[1m34s\u001b[0m 199ms/step - loss: 34655330304.0000 - val_loss: 38315544576.0000\n",
            "Epoch 58/500\n",
            "\u001b[1m171/171\u001b[0m \u001b[32m━━━━━━━━━━━━━━━━━━━━\u001b[0m\u001b[37m\u001b[0m \u001b[1m34s\u001b[0m 201ms/step - loss: 66541510656.0000 - val_loss: 41235709952.0000\n",
            "Epoch 59/500\n",
            "\u001b[1m171/171\u001b[0m \u001b[32m━━━━━━━━━━━━━━━━━━━━\u001b[0m\u001b[37m\u001b[0m \u001b[1m34s\u001b[0m 197ms/step - loss: 1480826683392.0000 - val_loss: 30292035584.0000\n",
            "Epoch 60/500\n",
            "\u001b[1m171/171\u001b[0m \u001b[32m━━━━━━━━━━━━━━━━━━━━\u001b[0m\u001b[37m\u001b[0m \u001b[1m34s\u001b[0m 200ms/step - loss: 54342225920.0000 - val_loss: 34642493440.0000\n",
            "Epoch 61/500\n",
            "\u001b[1m171/171\u001b[0m \u001b[32m━━━━━━━━━━━━━━━━━━━━\u001b[0m\u001b[37m\u001b[0m \u001b[1m36s\u001b[0m 210ms/step - loss: 470736273408.0000 - val_loss: 21511131136.0000\n",
            "Epoch 62/500\n",
            "\u001b[1m 71/171\u001b[0m \u001b[32m━━━━━━━━\u001b[0m\u001b[37m━━━━━━━━━━━━\u001b[0m \u001b[1m20s\u001b[0m 207ms/step - loss: 48205074432.0000"
          ]
        },
        {
          "ename": "KeyboardInterrupt",
          "evalue": "",
          "output_type": "error",
          "traceback": [
            "\u001b[0;31m---------------------------------------------------------------------------\u001b[0m",
            "\u001b[0;31mKeyboardInterrupt\u001b[0m                         Traceback (most recent call last)",
            "Cell \u001b[0;32mIn[50], line 17\u001b[0m\n\u001b[1;32m     14\u001b[0m model\u001b[38;5;241m.\u001b[39mcompile(optimizer\u001b[38;5;241m=\u001b[39mAdam(learning_rate\u001b[38;5;241m=\u001b[39m\u001b[38;5;241m0.001\u001b[39m), loss\u001b[38;5;241m=\u001b[39m\u001b[38;5;124m'\u001b[39m\u001b[38;5;124mmean_squared_error\u001b[39m\u001b[38;5;124m'\u001b[39m)\n\u001b[1;32m     16\u001b[0m \u001b[38;5;66;03m# Model Training\u001b[39;00m\n\u001b[0;32m---> 17\u001b[0m \u001b[43mmodel\u001b[49m\u001b[38;5;241;43m.\u001b[39;49m\u001b[43mfit\u001b[49m\u001b[43m(\u001b[49m\u001b[43mX_train_encoded\u001b[49m\u001b[43m,\u001b[49m\u001b[43m \u001b[49m\u001b[43my_train\u001b[49m\u001b[43m,\u001b[49m\u001b[43m \u001b[49m\u001b[43mepochs\u001b[49m\u001b[38;5;241;43m=\u001b[39;49m\u001b[38;5;241;43m500\u001b[39;49m\u001b[43m,\u001b[49m\u001b[43m \u001b[49m\u001b[43mbatch_size\u001b[49m\u001b[38;5;241;43m=\u001b[39;49m\u001b[38;5;241;43m32\u001b[39;49m\u001b[43m,\u001b[49m\u001b[43m \u001b[49m\u001b[43mvalidation_split\u001b[49m\u001b[38;5;241;43m=\u001b[39;49m\u001b[38;5;241;43m0.2\u001b[39;49m\u001b[43m)\u001b[49m\n",
            "File \u001b[0;32m~/Library/Python/3.9/lib/python/site-packages/keras/src/utils/traceback_utils.py:117\u001b[0m, in \u001b[0;36mfilter_traceback.<locals>.error_handler\u001b[0;34m(*args, **kwargs)\u001b[0m\n\u001b[1;32m    115\u001b[0m filtered_tb \u001b[38;5;241m=\u001b[39m \u001b[38;5;28;01mNone\u001b[39;00m\n\u001b[1;32m    116\u001b[0m \u001b[38;5;28;01mtry\u001b[39;00m:\n\u001b[0;32m--> 117\u001b[0m     \u001b[38;5;28;01mreturn\u001b[39;00m \u001b[43mfn\u001b[49m\u001b[43m(\u001b[49m\u001b[38;5;241;43m*\u001b[39;49m\u001b[43margs\u001b[49m\u001b[43m,\u001b[49m\u001b[43m \u001b[49m\u001b[38;5;241;43m*\u001b[39;49m\u001b[38;5;241;43m*\u001b[39;49m\u001b[43mkwargs\u001b[49m\u001b[43m)\u001b[49m\n\u001b[1;32m    118\u001b[0m \u001b[38;5;28;01mexcept\u001b[39;00m \u001b[38;5;167;01mException\u001b[39;00m \u001b[38;5;28;01mas\u001b[39;00m e:\n\u001b[1;32m    119\u001b[0m     filtered_tb \u001b[38;5;241m=\u001b[39m _process_traceback_frames(e\u001b[38;5;241m.\u001b[39m__traceback__)\n",
            "File \u001b[0;32m~/Library/Python/3.9/lib/python/site-packages/keras/src/backend/tensorflow/trainer.py:329\u001b[0m, in \u001b[0;36mTensorFlowTrainer.fit\u001b[0;34m(self, x, y, batch_size, epochs, verbose, callbacks, validation_split, validation_data, shuffle, class_weight, sample_weight, initial_epoch, steps_per_epoch, validation_steps, validation_batch_size, validation_freq)\u001b[0m\n\u001b[1;32m    327\u001b[0m \u001b[38;5;28;01mfor\u001b[39;00m step, iterator \u001b[38;5;129;01min\u001b[39;00m epoch_iterator\u001b[38;5;241m.\u001b[39menumerate_epoch():\n\u001b[1;32m    328\u001b[0m     callbacks\u001b[38;5;241m.\u001b[39mon_train_batch_begin(step)\n\u001b[0;32m--> 329\u001b[0m     logs \u001b[38;5;241m=\u001b[39m \u001b[38;5;28;43mself\u001b[39;49m\u001b[38;5;241;43m.\u001b[39;49m\u001b[43mtrain_function\u001b[49m\u001b[43m(\u001b[49m\u001b[43miterator\u001b[49m\u001b[43m)\u001b[49m\n\u001b[1;32m    330\u001b[0m     callbacks\u001b[38;5;241m.\u001b[39mon_train_batch_end(\n\u001b[1;32m    331\u001b[0m         step, \u001b[38;5;28mself\u001b[39m\u001b[38;5;241m.\u001b[39m_pythonify_logs(logs)\n\u001b[1;32m    332\u001b[0m     )\n\u001b[1;32m    333\u001b[0m     \u001b[38;5;28;01mif\u001b[39;00m \u001b[38;5;28mself\u001b[39m\u001b[38;5;241m.\u001b[39mstop_training:\n",
            "File \u001b[0;32m~/Library/Python/3.9/lib/python/site-packages/tensorflow/python/util/traceback_utils.py:150\u001b[0m, in \u001b[0;36mfilter_traceback.<locals>.error_handler\u001b[0;34m(*args, **kwargs)\u001b[0m\n\u001b[1;32m    148\u001b[0m filtered_tb \u001b[38;5;241m=\u001b[39m \u001b[38;5;28;01mNone\u001b[39;00m\n\u001b[1;32m    149\u001b[0m \u001b[38;5;28;01mtry\u001b[39;00m:\n\u001b[0;32m--> 150\u001b[0m   \u001b[38;5;28;01mreturn\u001b[39;00m \u001b[43mfn\u001b[49m\u001b[43m(\u001b[49m\u001b[38;5;241;43m*\u001b[39;49m\u001b[43margs\u001b[49m\u001b[43m,\u001b[49m\u001b[43m \u001b[49m\u001b[38;5;241;43m*\u001b[39;49m\u001b[38;5;241;43m*\u001b[39;49m\u001b[43mkwargs\u001b[49m\u001b[43m)\u001b[49m\n\u001b[1;32m    151\u001b[0m \u001b[38;5;28;01mexcept\u001b[39;00m \u001b[38;5;167;01mException\u001b[39;00m \u001b[38;5;28;01mas\u001b[39;00m e:\n\u001b[1;32m    152\u001b[0m   filtered_tb \u001b[38;5;241m=\u001b[39m _process_traceback_frames(e\u001b[38;5;241m.\u001b[39m__traceback__)\n",
            "File \u001b[0;32m~/Library/Python/3.9/lib/python/site-packages/tensorflow/python/eager/polymorphic_function/polymorphic_function.py:833\u001b[0m, in \u001b[0;36mFunction.__call__\u001b[0;34m(self, *args, **kwds)\u001b[0m\n\u001b[1;32m    830\u001b[0m compiler \u001b[38;5;241m=\u001b[39m \u001b[38;5;124m\"\u001b[39m\u001b[38;5;124mxla\u001b[39m\u001b[38;5;124m\"\u001b[39m \u001b[38;5;28;01mif\u001b[39;00m \u001b[38;5;28mself\u001b[39m\u001b[38;5;241m.\u001b[39m_jit_compile \u001b[38;5;28;01melse\u001b[39;00m \u001b[38;5;124m\"\u001b[39m\u001b[38;5;124mnonXla\u001b[39m\u001b[38;5;124m\"\u001b[39m\n\u001b[1;32m    832\u001b[0m \u001b[38;5;28;01mwith\u001b[39;00m OptionalXlaContext(\u001b[38;5;28mself\u001b[39m\u001b[38;5;241m.\u001b[39m_jit_compile):\n\u001b[0;32m--> 833\u001b[0m   result \u001b[38;5;241m=\u001b[39m \u001b[38;5;28;43mself\u001b[39;49m\u001b[38;5;241;43m.\u001b[39;49m\u001b[43m_call\u001b[49m\u001b[43m(\u001b[49m\u001b[38;5;241;43m*\u001b[39;49m\u001b[43margs\u001b[49m\u001b[43m,\u001b[49m\u001b[43m \u001b[49m\u001b[38;5;241;43m*\u001b[39;49m\u001b[38;5;241;43m*\u001b[39;49m\u001b[43mkwds\u001b[49m\u001b[43m)\u001b[49m\n\u001b[1;32m    835\u001b[0m new_tracing_count \u001b[38;5;241m=\u001b[39m \u001b[38;5;28mself\u001b[39m\u001b[38;5;241m.\u001b[39mexperimental_get_tracing_count()\n\u001b[1;32m    836\u001b[0m without_tracing \u001b[38;5;241m=\u001b[39m (tracing_count \u001b[38;5;241m==\u001b[39m new_tracing_count)\n",
            "File \u001b[0;32m~/Library/Python/3.9/lib/python/site-packages/tensorflow/python/eager/polymorphic_function/polymorphic_function.py:878\u001b[0m, in \u001b[0;36mFunction._call\u001b[0;34m(self, *args, **kwds)\u001b[0m\n\u001b[1;32m    875\u001b[0m \u001b[38;5;28mself\u001b[39m\u001b[38;5;241m.\u001b[39m_lock\u001b[38;5;241m.\u001b[39mrelease()\n\u001b[1;32m    876\u001b[0m \u001b[38;5;66;03m# In this case we have not created variables on the first call. So we can\u001b[39;00m\n\u001b[1;32m    877\u001b[0m \u001b[38;5;66;03m# run the first trace but we should fail if variables are created.\u001b[39;00m\n\u001b[0;32m--> 878\u001b[0m results \u001b[38;5;241m=\u001b[39m \u001b[43mtracing_compilation\u001b[49m\u001b[38;5;241;43m.\u001b[39;49m\u001b[43mcall_function\u001b[49m\u001b[43m(\u001b[49m\n\u001b[1;32m    879\u001b[0m \u001b[43m    \u001b[49m\u001b[43margs\u001b[49m\u001b[43m,\u001b[49m\u001b[43m \u001b[49m\u001b[43mkwds\u001b[49m\u001b[43m,\u001b[49m\u001b[43m \u001b[49m\u001b[38;5;28;43mself\u001b[39;49m\u001b[38;5;241;43m.\u001b[39;49m\u001b[43m_variable_creation_config\u001b[49m\n\u001b[1;32m    880\u001b[0m \u001b[43m\u001b[49m\u001b[43m)\u001b[49m\n\u001b[1;32m    881\u001b[0m \u001b[38;5;28;01mif\u001b[39;00m \u001b[38;5;28mself\u001b[39m\u001b[38;5;241m.\u001b[39m_created_variables:\n\u001b[1;32m    882\u001b[0m   \u001b[38;5;28;01mraise\u001b[39;00m \u001b[38;5;167;01mValueError\u001b[39;00m(\u001b[38;5;124m\"\u001b[39m\u001b[38;5;124mCreating variables on a non-first call to a function\u001b[39m\u001b[38;5;124m\"\u001b[39m\n\u001b[1;32m    883\u001b[0m                    \u001b[38;5;124m\"\u001b[39m\u001b[38;5;124m decorated with tf.function.\u001b[39m\u001b[38;5;124m\"\u001b[39m)\n",
            "File \u001b[0;32m~/Library/Python/3.9/lib/python/site-packages/tensorflow/python/eager/polymorphic_function/tracing_compilation.py:139\u001b[0m, in \u001b[0;36mcall_function\u001b[0;34m(args, kwargs, tracing_options)\u001b[0m\n\u001b[1;32m    137\u001b[0m bound_args \u001b[38;5;241m=\u001b[39m function\u001b[38;5;241m.\u001b[39mfunction_type\u001b[38;5;241m.\u001b[39mbind(\u001b[38;5;241m*\u001b[39margs, \u001b[38;5;241m*\u001b[39m\u001b[38;5;241m*\u001b[39mkwargs)\n\u001b[1;32m    138\u001b[0m flat_inputs \u001b[38;5;241m=\u001b[39m function\u001b[38;5;241m.\u001b[39mfunction_type\u001b[38;5;241m.\u001b[39munpack_inputs(bound_args)\n\u001b[0;32m--> 139\u001b[0m \u001b[38;5;28;01mreturn\u001b[39;00m \u001b[43mfunction\u001b[49m\u001b[38;5;241;43m.\u001b[39;49m\u001b[43m_call_flat\u001b[49m\u001b[43m(\u001b[49m\u001b[43m  \u001b[49m\u001b[38;5;66;43;03m# pylint: disable=protected-access\u001b[39;49;00m\n\u001b[1;32m    140\u001b[0m \u001b[43m    \u001b[49m\u001b[43mflat_inputs\u001b[49m\u001b[43m,\u001b[49m\u001b[43m \u001b[49m\u001b[43mcaptured_inputs\u001b[49m\u001b[38;5;241;43m=\u001b[39;49m\u001b[43mfunction\u001b[49m\u001b[38;5;241;43m.\u001b[39;49m\u001b[43mcaptured_inputs\u001b[49m\n\u001b[1;32m    141\u001b[0m \u001b[43m\u001b[49m\u001b[43m)\u001b[49m\n",
            "File \u001b[0;32m~/Library/Python/3.9/lib/python/site-packages/tensorflow/python/eager/polymorphic_function/concrete_function.py:1322\u001b[0m, in \u001b[0;36mConcreteFunction._call_flat\u001b[0;34m(self, tensor_inputs, captured_inputs)\u001b[0m\n\u001b[1;32m   1318\u001b[0m possible_gradient_type \u001b[38;5;241m=\u001b[39m gradients_util\u001b[38;5;241m.\u001b[39mPossibleTapeGradientTypes(args)\n\u001b[1;32m   1319\u001b[0m \u001b[38;5;28;01mif\u001b[39;00m (possible_gradient_type \u001b[38;5;241m==\u001b[39m gradients_util\u001b[38;5;241m.\u001b[39mPOSSIBLE_GRADIENT_TYPES_NONE\n\u001b[1;32m   1320\u001b[0m     \u001b[38;5;129;01mand\u001b[39;00m executing_eagerly):\n\u001b[1;32m   1321\u001b[0m   \u001b[38;5;66;03m# No tape is watching; skip to running the function.\u001b[39;00m\n\u001b[0;32m-> 1322\u001b[0m   \u001b[38;5;28;01mreturn\u001b[39;00m \u001b[38;5;28;43mself\u001b[39;49m\u001b[38;5;241;43m.\u001b[39;49m\u001b[43m_inference_function\u001b[49m\u001b[38;5;241;43m.\u001b[39;49m\u001b[43mcall_preflattened\u001b[49m\u001b[43m(\u001b[49m\u001b[43margs\u001b[49m\u001b[43m)\u001b[49m\n\u001b[1;32m   1323\u001b[0m forward_backward \u001b[38;5;241m=\u001b[39m \u001b[38;5;28mself\u001b[39m\u001b[38;5;241m.\u001b[39m_select_forward_and_backward_functions(\n\u001b[1;32m   1324\u001b[0m     args,\n\u001b[1;32m   1325\u001b[0m     possible_gradient_type,\n\u001b[1;32m   1326\u001b[0m     executing_eagerly)\n\u001b[1;32m   1327\u001b[0m forward_function, args_with_tangents \u001b[38;5;241m=\u001b[39m forward_backward\u001b[38;5;241m.\u001b[39mforward()\n",
            "File \u001b[0;32m~/Library/Python/3.9/lib/python/site-packages/tensorflow/python/eager/polymorphic_function/atomic_function.py:216\u001b[0m, in \u001b[0;36mAtomicFunction.call_preflattened\u001b[0;34m(self, args)\u001b[0m\n\u001b[1;32m    214\u001b[0m \u001b[38;5;28;01mdef\u001b[39;00m \u001b[38;5;21mcall_preflattened\u001b[39m(\u001b[38;5;28mself\u001b[39m, args: Sequence[core\u001b[38;5;241m.\u001b[39mTensor]) \u001b[38;5;241m-\u001b[39m\u001b[38;5;241m>\u001b[39m Any:\n\u001b[1;32m    215\u001b[0m \u001b[38;5;250m  \u001b[39m\u001b[38;5;124;03m\"\"\"Calls with flattened tensor inputs and returns the structured output.\"\"\"\u001b[39;00m\n\u001b[0;32m--> 216\u001b[0m   flat_outputs \u001b[38;5;241m=\u001b[39m \u001b[38;5;28;43mself\u001b[39;49m\u001b[38;5;241;43m.\u001b[39;49m\u001b[43mcall_flat\u001b[49m\u001b[43m(\u001b[49m\u001b[38;5;241;43m*\u001b[39;49m\u001b[43margs\u001b[49m\u001b[43m)\u001b[49m\n\u001b[1;32m    217\u001b[0m   \u001b[38;5;28;01mreturn\u001b[39;00m \u001b[38;5;28mself\u001b[39m\u001b[38;5;241m.\u001b[39mfunction_type\u001b[38;5;241m.\u001b[39mpack_output(flat_outputs)\n",
            "File \u001b[0;32m~/Library/Python/3.9/lib/python/site-packages/tensorflow/python/eager/polymorphic_function/atomic_function.py:251\u001b[0m, in \u001b[0;36mAtomicFunction.call_flat\u001b[0;34m(self, *args)\u001b[0m\n\u001b[1;32m    249\u001b[0m \u001b[38;5;28;01mwith\u001b[39;00m record\u001b[38;5;241m.\u001b[39mstop_recording():\n\u001b[1;32m    250\u001b[0m   \u001b[38;5;28;01mif\u001b[39;00m \u001b[38;5;28mself\u001b[39m\u001b[38;5;241m.\u001b[39m_bound_context\u001b[38;5;241m.\u001b[39mexecuting_eagerly():\n\u001b[0;32m--> 251\u001b[0m     outputs \u001b[38;5;241m=\u001b[39m \u001b[38;5;28;43mself\u001b[39;49m\u001b[38;5;241;43m.\u001b[39;49m\u001b[43m_bound_context\u001b[49m\u001b[38;5;241;43m.\u001b[39;49m\u001b[43mcall_function\u001b[49m\u001b[43m(\u001b[49m\n\u001b[1;32m    252\u001b[0m \u001b[43m        \u001b[49m\u001b[38;5;28;43mself\u001b[39;49m\u001b[38;5;241;43m.\u001b[39;49m\u001b[43mname\u001b[49m\u001b[43m,\u001b[49m\n\u001b[1;32m    253\u001b[0m \u001b[43m        \u001b[49m\u001b[38;5;28;43mlist\u001b[39;49m\u001b[43m(\u001b[49m\u001b[43margs\u001b[49m\u001b[43m)\u001b[49m\u001b[43m,\u001b[49m\n\u001b[1;32m    254\u001b[0m \u001b[43m        \u001b[49m\u001b[38;5;28;43mlen\u001b[39;49m\u001b[43m(\u001b[49m\u001b[38;5;28;43mself\u001b[39;49m\u001b[38;5;241;43m.\u001b[39;49m\u001b[43mfunction_type\u001b[49m\u001b[38;5;241;43m.\u001b[39;49m\u001b[43mflat_outputs\u001b[49m\u001b[43m)\u001b[49m\u001b[43m,\u001b[49m\n\u001b[1;32m    255\u001b[0m \u001b[43m    \u001b[49m\u001b[43m)\u001b[49m\n\u001b[1;32m    256\u001b[0m   \u001b[38;5;28;01melse\u001b[39;00m:\n\u001b[1;32m    257\u001b[0m     outputs \u001b[38;5;241m=\u001b[39m make_call_op_in_graph(\n\u001b[1;32m    258\u001b[0m         \u001b[38;5;28mself\u001b[39m,\n\u001b[1;32m    259\u001b[0m         \u001b[38;5;28mlist\u001b[39m(args),\n\u001b[1;32m    260\u001b[0m         \u001b[38;5;28mself\u001b[39m\u001b[38;5;241m.\u001b[39m_bound_context\u001b[38;5;241m.\u001b[39mfunction_call_options\u001b[38;5;241m.\u001b[39mas_attrs(),\n\u001b[1;32m    261\u001b[0m     )\n",
            "File \u001b[0;32m~/Library/Python/3.9/lib/python/site-packages/tensorflow/python/eager/context.py:1500\u001b[0m, in \u001b[0;36mContext.call_function\u001b[0;34m(self, name, tensor_inputs, num_outputs)\u001b[0m\n\u001b[1;32m   1498\u001b[0m cancellation_context \u001b[38;5;241m=\u001b[39m cancellation\u001b[38;5;241m.\u001b[39mcontext()\n\u001b[1;32m   1499\u001b[0m \u001b[38;5;28;01mif\u001b[39;00m cancellation_context \u001b[38;5;129;01mis\u001b[39;00m \u001b[38;5;28;01mNone\u001b[39;00m:\n\u001b[0;32m-> 1500\u001b[0m   outputs \u001b[38;5;241m=\u001b[39m \u001b[43mexecute\u001b[49m\u001b[38;5;241;43m.\u001b[39;49m\u001b[43mexecute\u001b[49m\u001b[43m(\u001b[49m\n\u001b[1;32m   1501\u001b[0m \u001b[43m      \u001b[49m\u001b[43mname\u001b[49m\u001b[38;5;241;43m.\u001b[39;49m\u001b[43mdecode\u001b[49m\u001b[43m(\u001b[49m\u001b[38;5;124;43m\"\u001b[39;49m\u001b[38;5;124;43mutf-8\u001b[39;49m\u001b[38;5;124;43m\"\u001b[39;49m\u001b[43m)\u001b[49m\u001b[43m,\u001b[49m\n\u001b[1;32m   1502\u001b[0m \u001b[43m      \u001b[49m\u001b[43mnum_outputs\u001b[49m\u001b[38;5;241;43m=\u001b[39;49m\u001b[43mnum_outputs\u001b[49m\u001b[43m,\u001b[49m\n\u001b[1;32m   1503\u001b[0m \u001b[43m      \u001b[49m\u001b[43minputs\u001b[49m\u001b[38;5;241;43m=\u001b[39;49m\u001b[43mtensor_inputs\u001b[49m\u001b[43m,\u001b[49m\n\u001b[1;32m   1504\u001b[0m \u001b[43m      \u001b[49m\u001b[43mattrs\u001b[49m\u001b[38;5;241;43m=\u001b[39;49m\u001b[43mattrs\u001b[49m\u001b[43m,\u001b[49m\n\u001b[1;32m   1505\u001b[0m \u001b[43m      \u001b[49m\u001b[43mctx\u001b[49m\u001b[38;5;241;43m=\u001b[39;49m\u001b[38;5;28;43mself\u001b[39;49m\u001b[43m,\u001b[49m\n\u001b[1;32m   1506\u001b[0m \u001b[43m  \u001b[49m\u001b[43m)\u001b[49m\n\u001b[1;32m   1507\u001b[0m \u001b[38;5;28;01melse\u001b[39;00m:\n\u001b[1;32m   1508\u001b[0m   outputs \u001b[38;5;241m=\u001b[39m execute\u001b[38;5;241m.\u001b[39mexecute_with_cancellation(\n\u001b[1;32m   1509\u001b[0m       name\u001b[38;5;241m.\u001b[39mdecode(\u001b[38;5;124m\"\u001b[39m\u001b[38;5;124mutf-8\u001b[39m\u001b[38;5;124m\"\u001b[39m),\n\u001b[1;32m   1510\u001b[0m       num_outputs\u001b[38;5;241m=\u001b[39mnum_outputs,\n\u001b[0;32m   (...)\u001b[0m\n\u001b[1;32m   1514\u001b[0m       cancellation_manager\u001b[38;5;241m=\u001b[39mcancellation_context,\n\u001b[1;32m   1515\u001b[0m   )\n",
            "File \u001b[0;32m~/Library/Python/3.9/lib/python/site-packages/tensorflow/python/eager/execute.py:53\u001b[0m, in \u001b[0;36mquick_execute\u001b[0;34m(op_name, num_outputs, inputs, attrs, ctx, name)\u001b[0m\n\u001b[1;32m     51\u001b[0m \u001b[38;5;28;01mtry\u001b[39;00m:\n\u001b[1;32m     52\u001b[0m   ctx\u001b[38;5;241m.\u001b[39mensure_initialized()\n\u001b[0;32m---> 53\u001b[0m   tensors \u001b[38;5;241m=\u001b[39m \u001b[43mpywrap_tfe\u001b[49m\u001b[38;5;241;43m.\u001b[39;49m\u001b[43mTFE_Py_Execute\u001b[49m\u001b[43m(\u001b[49m\u001b[43mctx\u001b[49m\u001b[38;5;241;43m.\u001b[39;49m\u001b[43m_handle\u001b[49m\u001b[43m,\u001b[49m\u001b[43m \u001b[49m\u001b[43mdevice_name\u001b[49m\u001b[43m,\u001b[49m\u001b[43m \u001b[49m\u001b[43mop_name\u001b[49m\u001b[43m,\u001b[49m\n\u001b[1;32m     54\u001b[0m \u001b[43m                                      \u001b[49m\u001b[43minputs\u001b[49m\u001b[43m,\u001b[49m\u001b[43m \u001b[49m\u001b[43mattrs\u001b[49m\u001b[43m,\u001b[49m\u001b[43m \u001b[49m\u001b[43mnum_outputs\u001b[49m\u001b[43m)\u001b[49m\n\u001b[1;32m     55\u001b[0m \u001b[38;5;28;01mexcept\u001b[39;00m core\u001b[38;5;241m.\u001b[39m_NotOkStatusException \u001b[38;5;28;01mas\u001b[39;00m e:\n\u001b[1;32m     56\u001b[0m   \u001b[38;5;28;01mif\u001b[39;00m name \u001b[38;5;129;01mis\u001b[39;00m \u001b[38;5;129;01mnot\u001b[39;00m \u001b[38;5;28;01mNone\u001b[39;00m:\n",
            "\u001b[0;31mKeyboardInterrupt\u001b[0m: "
          ]
        }
      ],
      "source": [
        "# Model Architecture\n",
        "model = Sequential([\n",
        "    Dense(8192, activation='relu', input_shape=(X_train_encoded.shape[1],)),\n",
        "    Dense(4096, activation='relu'),\n",
        "    Dense(2048, activation='relu'),\n",
        "    Dense(1024, activation='relu'),\n",
        "    Dense(512, activation='relu'),\n",
        "    Dense(256, activation='relu'),\n",
        "    Dense(128, activation='relu'),\n",
        "    Dense(1)  # Output layer with one neuron for regression\n",
        "])\n",
        "\n",
        "# Model Compilation\n",
        "model.compile(optimizer=Adam(learning_rate=0.001), loss='mean_squared_error')\n",
        "\n",
        "# Model Training\n",
        "model.fit(X_train_encoded, y_train, epochs=500, batch_size=32, validation_split=0.2)"
      ]
    },
    {
      "cell_type": "code",
      "execution_count": null,
      "metadata": {
        "colab": {
          "base_uri": "https://localhost:8080/"
        },
        "id": "keysJCWZUXob",
        "outputId": "c6efe431-e7db-4437-9b86-17c93631f5b7"
      },
      "outputs": [
        {
          "name": "stdout",
          "output_type": "stream",
          "text": [
            "54/54 [==============================] - 0s 1ms/step - loss: 19552813056.0000\n",
            "Test Loss: 19552813056.0\n"
          ]
        }
      ],
      "source": [
        "# Model Evaluation\n",
        "loss = model.evaluate(X_test, y_test)\n",
        "print(\"Test Loss:\", loss)"
      ]
    },
    {
      "cell_type": "code",
      "execution_count": null,
      "metadata": {
        "id": "rGYaQd2OUf0Y"
      },
      "outputs": [],
      "source": []
    }
  ],
  "metadata": {
    "accelerator": "GPU",
    "colab": {
      "gpuType": "T4",
      "provenance": []
    },
    "kernelspec": {
      "display_name": "Python 3",
      "name": "python3"
    },
    "language_info": {
      "codemirror_mode": {
        "name": "ipython",
        "version": 3
      },
      "file_extension": ".py",
      "mimetype": "text/x-python",
      "name": "python",
      "nbconvert_exporter": "python",
      "pygments_lexer": "ipython3",
      "version": "3.9.6"
    }
  },
  "nbformat": 4,
  "nbformat_minor": 0
}
