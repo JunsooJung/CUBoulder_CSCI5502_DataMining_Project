{
  "nbformat": 4,
  "nbformat_minor": 0,
  "metadata": {
    "colab": {
      "provenance": []
    },
    "kernelspec": {
      "name": "python3",
      "display_name": "Python 3"
    },
    "language_info": {
      "name": "python"
    }
  },
  "cells": [
    {
      "cell_type": "code",
      "execution_count": null,
      "metadata": {
        "id": "jYiSRDmOMHR_"
      },
      "outputs": [],
      "source": [
        "import pandas as pd\n",
        "import seaborn as sns\n",
        "import matplotlib.pyplot as plt"
      ]
    },
    {
      "cell_type": "code",
      "source": [
        "df = pd.read_csv('Games_Dataset_cleaned.csv')\n",
        "df.head(3)"
      ],
      "metadata": {
        "id": "_3XXi6ItMlcL"
      },
      "execution_count": null,
      "outputs": []
    },
    {
      "cell_type": "code",
      "source": [
        "df.drop(['Unnamed: 0.1','Unnamed: 0'], axis=1, inplace=True)\n",
        "df.head(3)"
      ],
      "metadata": {
        "id": "JSXCiefQMlc9"
      },
      "execution_count": null,
      "outputs": []
    },
    {
      "cell_type": "code",
      "source": [
        "sns.set_palette(\"YlOrBr\")"
      ],
      "metadata": {
        "id": "yslOC_5uMpAG"
      },
      "execution_count": null,
      "outputs": []
    },
    {
      "cell_type": "code",
      "source": [
        "genres = df['Genre'].str.split(', ').explode()\n",
        "genres = genres.replace({'in Early Access': 'Early Access'}).value_counts()\n",
        "\n",
        "genre_percentages = genres / genres.sum() * 100\n",
        "others_count = genres[genre_percentages < 1].sum()\n",
        "\n",
        "genres_filtered = genres[genre_percentages >= 1]\n",
        "genres_filtered['Others'] = others_count\n",
        "\n",
        "plt.figure(figsize=(10, 8))\n",
        "genres_filtered.plot(kind='pie', autopct='%1.1f%%', startangle=140)\n",
        "plt.title('Genre Distribution')\n",
        "plt.ylabel('')  # Hide the y-label as it's not needed for pie charts\n",
        "plt.tight_layout()\n",
        "plt.show()"
      ],
      "metadata": {
        "id": "O9wvMxKbMqLn"
      },
      "execution_count": null,
      "outputs": []
    },
    {
      "cell_type": "code",
      "source": [
        "def categorize_game(row):\n",
        "    categories = row['Category']\n",
        "    if 'Single-player' in categories and ('Multi-player' in categories or 'Co-op' in categories):\n",
        "        return 'Both'\n",
        "    elif 'Single-player' in categories:\n",
        "        return 'Single-player'\n",
        "    elif 'Multi-player' in categories or 'Co-op' in categories:\n",
        "        return 'Multi-player'\n",
        "    return 'Other'"
      ],
      "metadata": {
        "id": "o-B_aX78MsmU"
      },
      "execution_count": null,
      "outputs": []
    },
    {
      "cell_type": "code",
      "source": [
        "df['Game Type'] = df.apply(categorize_game, axis=1)"
      ],
      "metadata": {
        "id": "G40muISyMum8"
      },
      "execution_count": null,
      "outputs": []
    },
    {
      "cell_type": "code",
      "source": [
        "sns.set_palette(\"pastel\")"
      ],
      "metadata": {
        "id": "s3Hu4m_zMwLM"
      },
      "execution_count": null,
      "outputs": []
    },
    {
      "cell_type": "code",
      "source": [
        "df['Categories'] = df['Category'].str.split(',')\n",
        "df_exploded = df.explode('Categories',ignore_index=True)\n",
        "category_counts = df_exploded.groupby(['Game Type', 'Categories']).size()\n",
        "top_5_categories = category_counts.groupby(level=0, group_keys=False).nlargest(5).reset_index(name='Counts')\n"
      ],
      "metadata": {
        "id": "pfoWohjxMxxC"
      },
      "execution_count": null,
      "outputs": []
    },
    {
      "cell_type": "code",
      "source": [
        "top_5_categories.pivot(index='Game Type', columns='Categories', values='Counts').plot(kind='bar', stacked=True)\n",
        "plt.ylabel('Number of Games')\n",
        "plt.title('Top Categories by Game Type')\n",
        "plt.xticks(rotation=45)  # Rotate category names for better readability\n",
        "plt.show()"
      ],
      "metadata": {
        "id": "Svgyay6hMxv8"
      },
      "execution_count": null,
      "outputs": []
    },
    {
      "cell_type": "code",
      "source": [
        "df['Release_Date'] = pd.to_datetime(df['Release_Date'], errors='coerce')\n",
        "df_2021 = df[df['Release_Date'].dt.year == 2021]\n",
        "df_2021['Release_Month'] = df_2021['Release_Date'].dt.month\n",
        "monthly_releases = df_2021.groupby('Release_Month').size()"
      ],
      "metadata": {
        "id": "SkfJNt-mM1GD"
      },
      "execution_count": null,
      "outputs": []
    },
    {
      "cell_type": "code",
      "source": [
        "monthly_releases.plot(kind='bar')\n",
        "months = ['Jan', 'Feb', 'Mar', 'Apr', 'May', 'Jun', 'Jul', 'Aug', 'Sep', 'Oct', 'Nov', 'Dec']\n",
        "\n",
        "plt.xlabel('Month')\n",
        "plt.ylabel('Number of Releases')\n",
        "plt.title('Game Releases by Month')\n",
        "plt.xticks(ticks=range(len(monthly_releases)), labels=months[:len(monthly_releases)], rotation=0)\n",
        "plt.show()"
      ],
      "metadata": {
        "id": "nWA8JTLYM2z8"
      },
      "execution_count": null,
      "outputs": []
    }
  ]
}